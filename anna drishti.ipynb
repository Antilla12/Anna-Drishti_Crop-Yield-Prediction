{
 "cells": [
  {
   "cell_type": "code",
   "id": "498abf38",
   "metadata": {
    "ExecuteTime": {
     "end_time": "2024-11-09T04:47:23.645976Z",
     "start_time": "2024-11-09T04:47:23.643870Z"
    }
   },
   "source": [
    "#importing data and libraries\n",
    "import numpy as np\n",
    "import pandas as pd\n",
    "import seaborn as sns\n",
    "import matplotlib.pyplot as plt"
   ],
   "outputs": [],
   "execution_count": 105
  },
  {
   "cell_type": "code",
   "id": "55ad55b6",
   "metadata": {
    "ExecuteTime": {
     "end_time": "2024-11-09T04:47:23.717710Z",
     "start_time": "2024-11-09T04:47:23.658195Z"
    }
   },
   "source": "data = pd.read_csv(\"/Users/rushabhkarmokar/Desktop/Mini Project Sem 5/AnnaDrishti/Crop_production.csv\")",
   "outputs": [],
   "execution_count": 106
  },
  {
   "cell_type": "code",
   "id": "9cf6cd33",
   "metadata": {
    "ExecuteTime": {
     "end_time": "2024-11-09T04:47:23.734245Z",
     "start_time": "2024-11-09T04:47:23.728257Z"
    }
   },
   "source": [
    "data.head()"
   ],
   "outputs": [
    {
     "data": {
      "text/plain": [
       "   Unnamed: 0      State_Name Crop_Type       Crop    N   P   K    pH  \\\n",
       "0           0  andhra pradesh    kharif     cotton  120  40  20  5.46   \n",
       "1           1  andhra pradesh    kharif  horsegram   20  60  20  6.18   \n",
       "2           2  andhra pradesh    kharif      jowar   80  40  40  5.42   \n",
       "3           3  andhra pradesh    kharif      maize   80  40  20  5.62   \n",
       "4           4  andhra pradesh    kharif      moong   20  40  20  5.68   \n",
       "\n",
       "   rainfall  temperature  Area_in_hectares  Production_in_tons  \\\n",
       "0    654.34    29.266667            7300.0              9400.0   \n",
       "1    654.34    29.266667            3300.0              1000.0   \n",
       "2    654.34    29.266667           10100.0             10200.0   \n",
       "3    654.34    29.266667            2800.0              4900.0   \n",
       "4    654.34    29.266667            1300.0               500.0   \n",
       "\n",
       "   Yield_ton_per_hec  \n",
       "0           1.287671  \n",
       "1           0.303030  \n",
       "2           1.009901  \n",
       "3           1.750000  \n",
       "4           0.384615  "
      ],
      "text/html": [
       "<div>\n",
       "<style scoped>\n",
       "    .dataframe tbody tr th:only-of-type {\n",
       "        vertical-align: middle;\n",
       "    }\n",
       "\n",
       "    .dataframe tbody tr th {\n",
       "        vertical-align: top;\n",
       "    }\n",
       "\n",
       "    .dataframe thead th {\n",
       "        text-align: right;\n",
       "    }\n",
       "</style>\n",
       "<table border=\"1\" class=\"dataframe\">\n",
       "  <thead>\n",
       "    <tr style=\"text-align: right;\">\n",
       "      <th></th>\n",
       "      <th>Unnamed: 0</th>\n",
       "      <th>State_Name</th>\n",
       "      <th>Crop_Type</th>\n",
       "      <th>Crop</th>\n",
       "      <th>N</th>\n",
       "      <th>P</th>\n",
       "      <th>K</th>\n",
       "      <th>pH</th>\n",
       "      <th>rainfall</th>\n",
       "      <th>temperature</th>\n",
       "      <th>Area_in_hectares</th>\n",
       "      <th>Production_in_tons</th>\n",
       "      <th>Yield_ton_per_hec</th>\n",
       "    </tr>\n",
       "  </thead>\n",
       "  <tbody>\n",
       "    <tr>\n",
       "      <th>0</th>\n",
       "      <td>0</td>\n",
       "      <td>andhra pradesh</td>\n",
       "      <td>kharif</td>\n",
       "      <td>cotton</td>\n",
       "      <td>120</td>\n",
       "      <td>40</td>\n",
       "      <td>20</td>\n",
       "      <td>5.46</td>\n",
       "      <td>654.34</td>\n",
       "      <td>29.266667</td>\n",
       "      <td>7300.0</td>\n",
       "      <td>9400.0</td>\n",
       "      <td>1.287671</td>\n",
       "    </tr>\n",
       "    <tr>\n",
       "      <th>1</th>\n",
       "      <td>1</td>\n",
       "      <td>andhra pradesh</td>\n",
       "      <td>kharif</td>\n",
       "      <td>horsegram</td>\n",
       "      <td>20</td>\n",
       "      <td>60</td>\n",
       "      <td>20</td>\n",
       "      <td>6.18</td>\n",
       "      <td>654.34</td>\n",
       "      <td>29.266667</td>\n",
       "      <td>3300.0</td>\n",
       "      <td>1000.0</td>\n",
       "      <td>0.303030</td>\n",
       "    </tr>\n",
       "    <tr>\n",
       "      <th>2</th>\n",
       "      <td>2</td>\n",
       "      <td>andhra pradesh</td>\n",
       "      <td>kharif</td>\n",
       "      <td>jowar</td>\n",
       "      <td>80</td>\n",
       "      <td>40</td>\n",
       "      <td>40</td>\n",
       "      <td>5.42</td>\n",
       "      <td>654.34</td>\n",
       "      <td>29.266667</td>\n",
       "      <td>10100.0</td>\n",
       "      <td>10200.0</td>\n",
       "      <td>1.009901</td>\n",
       "    </tr>\n",
       "    <tr>\n",
       "      <th>3</th>\n",
       "      <td>3</td>\n",
       "      <td>andhra pradesh</td>\n",
       "      <td>kharif</td>\n",
       "      <td>maize</td>\n",
       "      <td>80</td>\n",
       "      <td>40</td>\n",
       "      <td>20</td>\n",
       "      <td>5.62</td>\n",
       "      <td>654.34</td>\n",
       "      <td>29.266667</td>\n",
       "      <td>2800.0</td>\n",
       "      <td>4900.0</td>\n",
       "      <td>1.750000</td>\n",
       "    </tr>\n",
       "    <tr>\n",
       "      <th>4</th>\n",
       "      <td>4</td>\n",
       "      <td>andhra pradesh</td>\n",
       "      <td>kharif</td>\n",
       "      <td>moong</td>\n",
       "      <td>20</td>\n",
       "      <td>40</td>\n",
       "      <td>20</td>\n",
       "      <td>5.68</td>\n",
       "      <td>654.34</td>\n",
       "      <td>29.266667</td>\n",
       "      <td>1300.0</td>\n",
       "      <td>500.0</td>\n",
       "      <td>0.384615</td>\n",
       "    </tr>\n",
       "  </tbody>\n",
       "</table>\n",
       "</div>"
      ]
     },
     "execution_count": 107,
     "metadata": {},
     "output_type": "execute_result"
    }
   ],
   "execution_count": 107
  },
  {
   "cell_type": "code",
   "id": "bf55ea68",
   "metadata": {
    "ExecuteTime": {
     "end_time": "2024-11-09T04:47:23.766020Z",
     "start_time": "2024-11-09T04:47:23.759982Z"
    }
   },
   "source": [
    "data.tail()"
   ],
   "outputs": [
    {
     "data": {
      "text/plain": [
       "       Unnamed: 0   State_Name Crop_Type     Crop   N   P   K    pH  rainfall  \\\n",
       "99844       99844  west bengal      rabi    wheat  60  30  30  6.70    152.54   \n",
       "99845       99845  west bengal    summer    maize  80  40  20  5.68    182.50   \n",
       "99846       99846  west bengal    summer     rice  80  40  40  5.64    182.50   \n",
       "99847       99847  west bengal      rabi     rice  80  40  40  5.42    152.54   \n",
       "99848       99848  west bengal      rabi  sesamum  30  15  30  6.54    152.54   \n",
       "\n",
       "       temperature  Area_in_hectares  Production_in_tons  Yield_ton_per_hec  \n",
       "99844        22.28            2013.0              5152.0           2.559364  \n",
       "99845        29.20             258.0               391.0           1.515504  \n",
       "99846        29.20             105.0               281.0           2.676190  \n",
       "99847        22.28          152676.0            261435.0           1.712352  \n",
       "99848        22.28             244.0                95.0           0.389344  "
      ],
      "text/html": [
       "<div>\n",
       "<style scoped>\n",
       "    .dataframe tbody tr th:only-of-type {\n",
       "        vertical-align: middle;\n",
       "    }\n",
       "\n",
       "    .dataframe tbody tr th {\n",
       "        vertical-align: top;\n",
       "    }\n",
       "\n",
       "    .dataframe thead th {\n",
       "        text-align: right;\n",
       "    }\n",
       "</style>\n",
       "<table border=\"1\" class=\"dataframe\">\n",
       "  <thead>\n",
       "    <tr style=\"text-align: right;\">\n",
       "      <th></th>\n",
       "      <th>Unnamed: 0</th>\n",
       "      <th>State_Name</th>\n",
       "      <th>Crop_Type</th>\n",
       "      <th>Crop</th>\n",
       "      <th>N</th>\n",
       "      <th>P</th>\n",
       "      <th>K</th>\n",
       "      <th>pH</th>\n",
       "      <th>rainfall</th>\n",
       "      <th>temperature</th>\n",
       "      <th>Area_in_hectares</th>\n",
       "      <th>Production_in_tons</th>\n",
       "      <th>Yield_ton_per_hec</th>\n",
       "    </tr>\n",
       "  </thead>\n",
       "  <tbody>\n",
       "    <tr>\n",
       "      <th>99844</th>\n",
       "      <td>99844</td>\n",
       "      <td>west bengal</td>\n",
       "      <td>rabi</td>\n",
       "      <td>wheat</td>\n",
       "      <td>60</td>\n",
       "      <td>30</td>\n",
       "      <td>30</td>\n",
       "      <td>6.70</td>\n",
       "      <td>152.54</td>\n",
       "      <td>22.28</td>\n",
       "      <td>2013.0</td>\n",
       "      <td>5152.0</td>\n",
       "      <td>2.559364</td>\n",
       "    </tr>\n",
       "    <tr>\n",
       "      <th>99845</th>\n",
       "      <td>99845</td>\n",
       "      <td>west bengal</td>\n",
       "      <td>summer</td>\n",
       "      <td>maize</td>\n",
       "      <td>80</td>\n",
       "      <td>40</td>\n",
       "      <td>20</td>\n",
       "      <td>5.68</td>\n",
       "      <td>182.50</td>\n",
       "      <td>29.20</td>\n",
       "      <td>258.0</td>\n",
       "      <td>391.0</td>\n",
       "      <td>1.515504</td>\n",
       "    </tr>\n",
       "    <tr>\n",
       "      <th>99846</th>\n",
       "      <td>99846</td>\n",
       "      <td>west bengal</td>\n",
       "      <td>summer</td>\n",
       "      <td>rice</td>\n",
       "      <td>80</td>\n",
       "      <td>40</td>\n",
       "      <td>40</td>\n",
       "      <td>5.64</td>\n",
       "      <td>182.50</td>\n",
       "      <td>29.20</td>\n",
       "      <td>105.0</td>\n",
       "      <td>281.0</td>\n",
       "      <td>2.676190</td>\n",
       "    </tr>\n",
       "    <tr>\n",
       "      <th>99847</th>\n",
       "      <td>99847</td>\n",
       "      <td>west bengal</td>\n",
       "      <td>rabi</td>\n",
       "      <td>rice</td>\n",
       "      <td>80</td>\n",
       "      <td>40</td>\n",
       "      <td>40</td>\n",
       "      <td>5.42</td>\n",
       "      <td>152.54</td>\n",
       "      <td>22.28</td>\n",
       "      <td>152676.0</td>\n",
       "      <td>261435.0</td>\n",
       "      <td>1.712352</td>\n",
       "    </tr>\n",
       "    <tr>\n",
       "      <th>99848</th>\n",
       "      <td>99848</td>\n",
       "      <td>west bengal</td>\n",
       "      <td>rabi</td>\n",
       "      <td>sesamum</td>\n",
       "      <td>30</td>\n",
       "      <td>15</td>\n",
       "      <td>30</td>\n",
       "      <td>6.54</td>\n",
       "      <td>152.54</td>\n",
       "      <td>22.28</td>\n",
       "      <td>244.0</td>\n",
       "      <td>95.0</td>\n",
       "      <td>0.389344</td>\n",
       "    </tr>\n",
       "  </tbody>\n",
       "</table>\n",
       "</div>"
      ]
     },
     "execution_count": 108,
     "metadata": {},
     "output_type": "execute_result"
    }
   ],
   "execution_count": 108
  },
  {
   "cell_type": "code",
   "id": "a019fd1c",
   "metadata": {
    "ExecuteTime": {
     "end_time": "2024-11-09T04:47:23.807562Z",
     "start_time": "2024-11-09T04:47:23.804280Z"
    }
   },
   "source": [
    "data.shape"
   ],
   "outputs": [
    {
     "data": {
      "text/plain": [
       "(99849, 13)"
      ]
     },
     "execution_count": 109,
     "metadata": {},
     "output_type": "execute_result"
    }
   ],
   "execution_count": 109
  },
  {
   "cell_type": "code",
   "id": "691c18ed",
   "metadata": {
    "ExecuteTime": {
     "end_time": "2024-11-09T04:47:23.948378Z",
     "start_time": "2024-11-09T04:47:23.939423Z"
    }
   },
   "source": [
    "data.isnull().sum()"
   ],
   "outputs": [
    {
     "data": {
      "text/plain": [
       "Unnamed: 0            0\n",
       "State_Name            0\n",
       "Crop_Type             0\n",
       "Crop                  0\n",
       "N                     0\n",
       "P                     0\n",
       "K                     0\n",
       "pH                    0\n",
       "rainfall              0\n",
       "temperature           0\n",
       "Area_in_hectares      0\n",
       "Production_in_tons    0\n",
       "Yield_ton_per_hec     0\n",
       "dtype: int64"
      ]
     },
     "execution_count": 110,
     "metadata": {},
     "output_type": "execute_result"
    }
   ],
   "execution_count": 110
  },
  {
   "cell_type": "code",
   "id": "6a9d2459",
   "metadata": {
    "ExecuteTime": {
     "end_time": "2024-11-09T04:47:24.003600Z",
     "start_time": "2024-11-09T04:47:23.992521Z"
    }
   },
   "source": [
    "data.info()"
   ],
   "outputs": [
    {
     "name": "stdout",
     "output_type": "stream",
     "text": [
      "<class 'pandas.core.frame.DataFrame'>\n",
      "RangeIndex: 99849 entries, 0 to 99848\n",
      "Data columns (total 13 columns):\n",
      " #   Column              Non-Null Count  Dtype  \n",
      "---  ------              --------------  -----  \n",
      " 0   Unnamed: 0          99849 non-null  int64  \n",
      " 1   State_Name          99849 non-null  object \n",
      " 2   Crop_Type           99849 non-null  object \n",
      " 3   Crop                99849 non-null  object \n",
      " 4   N                   99849 non-null  int64  \n",
      " 5   P                   99849 non-null  int64  \n",
      " 6   K                   99849 non-null  int64  \n",
      " 7   pH                  99849 non-null  float64\n",
      " 8   rainfall            99849 non-null  float64\n",
      " 9   temperature         99849 non-null  float64\n",
      " 10  Area_in_hectares    99849 non-null  float64\n",
      " 11  Production_in_tons  99849 non-null  float64\n",
      " 12  Yield_ton_per_hec   99849 non-null  float64\n",
      "dtypes: float64(6), int64(4), object(3)\n",
      "memory usage: 9.9+ MB\n"
     ]
    }
   ],
   "execution_count": 111
  },
  {
   "cell_type": "code",
   "id": "b9ae01ea",
   "metadata": {
    "ExecuteTime": {
     "end_time": "2024-11-09T04:47:24.076306Z",
     "start_time": "2024-11-09T04:47:24.043284Z"
    }
   },
   "source": [
    "data.describe()"
   ],
   "outputs": [
    {
     "data": {
      "text/plain": [
       "         Unnamed: 0             N             P             K            pH  \\\n",
       "count  99849.000000  99849.000000  99849.000000  99849.000000  99849.000000   \n",
       "mean   49924.000000     69.816823     41.593656     42.037827      5.643624   \n",
       "std    28824.067851     39.571469     15.056508     28.430263      0.505283   \n",
       "min        0.000000     10.000000     10.000000     10.000000      3.820000   \n",
       "25%    24962.000000     50.000000     40.000000     20.000000      5.360000   \n",
       "50%    49924.000000     75.000000     40.000000     30.000000      5.540000   \n",
       "75%    74886.000000     80.000000     60.000000     50.000000      5.960000   \n",
       "max    99848.000000    180.000000    125.000000    200.000000      7.000000   \n",
       "\n",
       "           rainfall   temperature  Area_in_hectares  Production_in_tons  \\\n",
       "count  99849.000000  99849.000000      99849.000000        9.984900e+04   \n",
       "mean     701.151085     26.684154      16476.585668        3.776291e+04   \n",
       "std      604.701552      4.851214      43604.268231        1.222447e+05   \n",
       "min        3.274569      1.180000          0.580000        0.000000e+00   \n",
       "25%      157.310000     23.106000        130.000000        1.620000e+02   \n",
       "50%      579.750000     27.333333       1010.000000        1.506000e+03   \n",
       "75%     1110.780000     29.266667       8099.000000        1.439500e+04   \n",
       "max     3322.060000     35.346667     726300.000000        3.530571e+06   \n",
       "\n",
       "       Yield_ton_per_hec  \n",
       "count       99849.000000  \n",
       "mean            3.931149  \n",
       "std            33.872242  \n",
       "min             0.000000  \n",
       "25%             0.586207  \n",
       "50%             1.329268  \n",
       "75%             2.997288  \n",
       "max          9801.000000  "
      ],
      "text/html": [
       "<div>\n",
       "<style scoped>\n",
       "    .dataframe tbody tr th:only-of-type {\n",
       "        vertical-align: middle;\n",
       "    }\n",
       "\n",
       "    .dataframe tbody tr th {\n",
       "        vertical-align: top;\n",
       "    }\n",
       "\n",
       "    .dataframe thead th {\n",
       "        text-align: right;\n",
       "    }\n",
       "</style>\n",
       "<table border=\"1\" class=\"dataframe\">\n",
       "  <thead>\n",
       "    <tr style=\"text-align: right;\">\n",
       "      <th></th>\n",
       "      <th>Unnamed: 0</th>\n",
       "      <th>N</th>\n",
       "      <th>P</th>\n",
       "      <th>K</th>\n",
       "      <th>pH</th>\n",
       "      <th>rainfall</th>\n",
       "      <th>temperature</th>\n",
       "      <th>Area_in_hectares</th>\n",
       "      <th>Production_in_tons</th>\n",
       "      <th>Yield_ton_per_hec</th>\n",
       "    </tr>\n",
       "  </thead>\n",
       "  <tbody>\n",
       "    <tr>\n",
       "      <th>count</th>\n",
       "      <td>99849.000000</td>\n",
       "      <td>99849.000000</td>\n",
       "      <td>99849.000000</td>\n",
       "      <td>99849.000000</td>\n",
       "      <td>99849.000000</td>\n",
       "      <td>99849.000000</td>\n",
       "      <td>99849.000000</td>\n",
       "      <td>99849.000000</td>\n",
       "      <td>9.984900e+04</td>\n",
       "      <td>99849.000000</td>\n",
       "    </tr>\n",
       "    <tr>\n",
       "      <th>mean</th>\n",
       "      <td>49924.000000</td>\n",
       "      <td>69.816823</td>\n",
       "      <td>41.593656</td>\n",
       "      <td>42.037827</td>\n",
       "      <td>5.643624</td>\n",
       "      <td>701.151085</td>\n",
       "      <td>26.684154</td>\n",
       "      <td>16476.585668</td>\n",
       "      <td>3.776291e+04</td>\n",
       "      <td>3.931149</td>\n",
       "    </tr>\n",
       "    <tr>\n",
       "      <th>std</th>\n",
       "      <td>28824.067851</td>\n",
       "      <td>39.571469</td>\n",
       "      <td>15.056508</td>\n",
       "      <td>28.430263</td>\n",
       "      <td>0.505283</td>\n",
       "      <td>604.701552</td>\n",
       "      <td>4.851214</td>\n",
       "      <td>43604.268231</td>\n",
       "      <td>1.222447e+05</td>\n",
       "      <td>33.872242</td>\n",
       "    </tr>\n",
       "    <tr>\n",
       "      <th>min</th>\n",
       "      <td>0.000000</td>\n",
       "      <td>10.000000</td>\n",
       "      <td>10.000000</td>\n",
       "      <td>10.000000</td>\n",
       "      <td>3.820000</td>\n",
       "      <td>3.274569</td>\n",
       "      <td>1.180000</td>\n",
       "      <td>0.580000</td>\n",
       "      <td>0.000000e+00</td>\n",
       "      <td>0.000000</td>\n",
       "    </tr>\n",
       "    <tr>\n",
       "      <th>25%</th>\n",
       "      <td>24962.000000</td>\n",
       "      <td>50.000000</td>\n",
       "      <td>40.000000</td>\n",
       "      <td>20.000000</td>\n",
       "      <td>5.360000</td>\n",
       "      <td>157.310000</td>\n",
       "      <td>23.106000</td>\n",
       "      <td>130.000000</td>\n",
       "      <td>1.620000e+02</td>\n",
       "      <td>0.586207</td>\n",
       "    </tr>\n",
       "    <tr>\n",
       "      <th>50%</th>\n",
       "      <td>49924.000000</td>\n",
       "      <td>75.000000</td>\n",
       "      <td>40.000000</td>\n",
       "      <td>30.000000</td>\n",
       "      <td>5.540000</td>\n",
       "      <td>579.750000</td>\n",
       "      <td>27.333333</td>\n",
       "      <td>1010.000000</td>\n",
       "      <td>1.506000e+03</td>\n",
       "      <td>1.329268</td>\n",
       "    </tr>\n",
       "    <tr>\n",
       "      <th>75%</th>\n",
       "      <td>74886.000000</td>\n",
       "      <td>80.000000</td>\n",
       "      <td>60.000000</td>\n",
       "      <td>50.000000</td>\n",
       "      <td>5.960000</td>\n",
       "      <td>1110.780000</td>\n",
       "      <td>29.266667</td>\n",
       "      <td>8099.000000</td>\n",
       "      <td>1.439500e+04</td>\n",
       "      <td>2.997288</td>\n",
       "    </tr>\n",
       "    <tr>\n",
       "      <th>max</th>\n",
       "      <td>99848.000000</td>\n",
       "      <td>180.000000</td>\n",
       "      <td>125.000000</td>\n",
       "      <td>200.000000</td>\n",
       "      <td>7.000000</td>\n",
       "      <td>3322.060000</td>\n",
       "      <td>35.346667</td>\n",
       "      <td>726300.000000</td>\n",
       "      <td>3.530571e+06</td>\n",
       "      <td>9801.000000</td>\n",
       "    </tr>\n",
       "  </tbody>\n",
       "</table>\n",
       "</div>"
      ]
     },
     "execution_count": 112,
     "metadata": {},
     "output_type": "execute_result"
    }
   ],
   "execution_count": 112
  },
  {
   "cell_type": "code",
   "id": "fbf97763",
   "metadata": {
    "ExecuteTime": {
     "end_time": "2024-11-09T04:47:24.120560Z",
     "start_time": "2024-11-09T04:47:24.096124Z"
    }
   },
   "source": [
    "data.duplicated().sum()"
   ],
   "outputs": [
    {
     "data": {
      "text/plain": [
       "0"
      ]
     },
     "execution_count": 113,
     "metadata": {},
     "output_type": "execute_result"
    }
   ],
   "execution_count": 113
  },
  {
   "cell_type": "code",
   "id": "9f1053e0",
   "metadata": {
    "ExecuteTime": {
     "end_time": "2024-11-09T04:47:24.161510Z",
     "start_time": "2024-11-09T04:47:24.158062Z"
    }
   },
   "source": [
    "data['rainfall']"
   ],
   "outputs": [
    {
     "data": {
      "text/plain": [
       "0        654.34\n",
       "1        654.34\n",
       "2        654.34\n",
       "3        654.34\n",
       "4        654.34\n",
       "          ...  \n",
       "99844    152.54\n",
       "99845    182.50\n",
       "99846    182.50\n",
       "99847    152.54\n",
       "99848    152.54\n",
       "Name: rainfall, Length: 99849, dtype: float64"
      ]
     },
     "execution_count": 114,
     "metadata": {},
     "output_type": "execute_result"
    }
   ],
   "execution_count": 114
  },
  {
   "cell_type": "code",
   "id": "9162e458",
   "metadata": {
    "ExecuteTime": {
     "end_time": "2024-11-09T04:47:24.208382Z",
     "start_time": "2024-11-09T04:47:24.206786Z"
    }
   },
   "source": [
    "def isstr(i):\n",
    "    try:\n",
    "        float(i)\n",
    "        return False\n",
    "    except:\n",
    "        return True"
   ],
   "outputs": [],
   "execution_count": 115
  },
  {
   "cell_type": "code",
   "id": "de828c62",
   "metadata": {
    "ExecuteTime": {
     "end_time": "2024-11-09T04:47:24.258363Z",
     "start_time": "2024-11-09T04:47:24.245338Z"
    }
   },
   "source": [
    "dp=data[data['rainfall'].apply(isstr)].index"
   ],
   "outputs": [],
   "execution_count": 116
  },
  {
   "cell_type": "code",
   "id": "39c87fd3",
   "metadata": {
    "ExecuteTime": {
     "end_time": "2024-11-09T04:47:24.278208Z",
     "start_time": "2024-11-09T04:47:24.273739Z"
    }
   },
   "source": [
    "data=data.drop(dp)"
   ],
   "outputs": [],
   "execution_count": 117
  },
  {
   "cell_type": "code",
   "id": "1b2fb946",
   "metadata": {
    "ExecuteTime": {
     "end_time": "2024-11-09T04:47:24.303701Z",
     "start_time": "2024-11-09T04:47:24.298384Z"
    }
   },
   "source": [
    "data.drop('Unnamed: 0',axis=1,inplace=True)"
   ],
   "outputs": [],
   "execution_count": 118
  },
  {
   "cell_type": "code",
   "id": "33edf55e",
   "metadata": {
    "ExecuteTime": {
     "end_time": "2024-11-09T04:47:24.320380Z",
     "start_time": "2024-11-09T04:47:24.314693Z"
    }
   },
   "source": [
    "data.head()"
   ],
   "outputs": [
    {
     "data": {
      "text/plain": [
       "       State_Name Crop_Type       Crop    N   P   K    pH  rainfall  \\\n",
       "0  andhra pradesh    kharif     cotton  120  40  20  5.46    654.34   \n",
       "1  andhra pradesh    kharif  horsegram   20  60  20  6.18    654.34   \n",
       "2  andhra pradesh    kharif      jowar   80  40  40  5.42    654.34   \n",
       "3  andhra pradesh    kharif      maize   80  40  20  5.62    654.34   \n",
       "4  andhra pradesh    kharif      moong   20  40  20  5.68    654.34   \n",
       "\n",
       "   temperature  Area_in_hectares  Production_in_tons  Yield_ton_per_hec  \n",
       "0    29.266667            7300.0              9400.0           1.287671  \n",
       "1    29.266667            3300.0              1000.0           0.303030  \n",
       "2    29.266667           10100.0             10200.0           1.009901  \n",
       "3    29.266667            2800.0              4900.0           1.750000  \n",
       "4    29.266667            1300.0               500.0           0.384615  "
      ],
      "text/html": [
       "<div>\n",
       "<style scoped>\n",
       "    .dataframe tbody tr th:only-of-type {\n",
       "        vertical-align: middle;\n",
       "    }\n",
       "\n",
       "    .dataframe tbody tr th {\n",
       "        vertical-align: top;\n",
       "    }\n",
       "\n",
       "    .dataframe thead th {\n",
       "        text-align: right;\n",
       "    }\n",
       "</style>\n",
       "<table border=\"1\" class=\"dataframe\">\n",
       "  <thead>\n",
       "    <tr style=\"text-align: right;\">\n",
       "      <th></th>\n",
       "      <th>State_Name</th>\n",
       "      <th>Crop_Type</th>\n",
       "      <th>Crop</th>\n",
       "      <th>N</th>\n",
       "      <th>P</th>\n",
       "      <th>K</th>\n",
       "      <th>pH</th>\n",
       "      <th>rainfall</th>\n",
       "      <th>temperature</th>\n",
       "      <th>Area_in_hectares</th>\n",
       "      <th>Production_in_tons</th>\n",
       "      <th>Yield_ton_per_hec</th>\n",
       "    </tr>\n",
       "  </thead>\n",
       "  <tbody>\n",
       "    <tr>\n",
       "      <th>0</th>\n",
       "      <td>andhra pradesh</td>\n",
       "      <td>kharif</td>\n",
       "      <td>cotton</td>\n",
       "      <td>120</td>\n",
       "      <td>40</td>\n",
       "      <td>20</td>\n",
       "      <td>5.46</td>\n",
       "      <td>654.34</td>\n",
       "      <td>29.266667</td>\n",
       "      <td>7300.0</td>\n",
       "      <td>9400.0</td>\n",
       "      <td>1.287671</td>\n",
       "    </tr>\n",
       "    <tr>\n",
       "      <th>1</th>\n",
       "      <td>andhra pradesh</td>\n",
       "      <td>kharif</td>\n",
       "      <td>horsegram</td>\n",
       "      <td>20</td>\n",
       "      <td>60</td>\n",
       "      <td>20</td>\n",
       "      <td>6.18</td>\n",
       "      <td>654.34</td>\n",
       "      <td>29.266667</td>\n",
       "      <td>3300.0</td>\n",
       "      <td>1000.0</td>\n",
       "      <td>0.303030</td>\n",
       "    </tr>\n",
       "    <tr>\n",
       "      <th>2</th>\n",
       "      <td>andhra pradesh</td>\n",
       "      <td>kharif</td>\n",
       "      <td>jowar</td>\n",
       "      <td>80</td>\n",
       "      <td>40</td>\n",
       "      <td>40</td>\n",
       "      <td>5.42</td>\n",
       "      <td>654.34</td>\n",
       "      <td>29.266667</td>\n",
       "      <td>10100.0</td>\n",
       "      <td>10200.0</td>\n",
       "      <td>1.009901</td>\n",
       "    </tr>\n",
       "    <tr>\n",
       "      <th>3</th>\n",
       "      <td>andhra pradesh</td>\n",
       "      <td>kharif</td>\n",
       "      <td>maize</td>\n",
       "      <td>80</td>\n",
       "      <td>40</td>\n",
       "      <td>20</td>\n",
       "      <td>5.62</td>\n",
       "      <td>654.34</td>\n",
       "      <td>29.266667</td>\n",
       "      <td>2800.0</td>\n",
       "      <td>4900.0</td>\n",
       "      <td>1.750000</td>\n",
       "    </tr>\n",
       "    <tr>\n",
       "      <th>4</th>\n",
       "      <td>andhra pradesh</td>\n",
       "      <td>kharif</td>\n",
       "      <td>moong</td>\n",
       "      <td>20</td>\n",
       "      <td>40</td>\n",
       "      <td>20</td>\n",
       "      <td>5.68</td>\n",
       "      <td>654.34</td>\n",
       "      <td>29.266667</td>\n",
       "      <td>1300.0</td>\n",
       "      <td>500.0</td>\n",
       "      <td>0.384615</td>\n",
       "    </tr>\n",
       "  </tbody>\n",
       "</table>\n",
       "</div>"
      ]
     },
     "execution_count": 119,
     "metadata": {},
     "output_type": "execute_result"
    }
   ],
   "execution_count": 119
  },
  {
   "cell_type": "code",
   "id": "60a740f3",
   "metadata": {
    "ExecuteTime": {
     "end_time": "2024-11-09T04:47:25.332360Z",
     "start_time": "2024-11-09T04:47:24.346375Z"
    }
   },
   "source": [
    "plt.figure(figsize=(30,20))\n",
    "sns.barplot(x=data['State_Name'],y=data['Area_in_hectares'])\n"
   ],
   "outputs": [
    {
     "data": {
      "text/plain": [
       "<Axes: xlabel='State_Name', ylabel='Area_in_hectares'>"
      ]
     },
     "execution_count": 120,
     "metadata": {},
     "output_type": "execute_result"
    },
    {
     "data": {
      "text/plain": [
       "<Figure size 3000x2000 with 1 Axes>"
      ],
      "image/png": "[encoded data removed]"
     },
     "metadata": {},
     "output_type": "display_data"
    }
   ],
   "execution_count": 120
  },
  {
   "cell_type": "code",
   "id": "6f0f1a9b",
   "metadata": {
    "ExecuteTime": {
     "end_time": "2024-11-09T04:47:25.356161Z",
     "start_time": "2024-11-09T04:47:25.351605Z"
    }
   },
   "source": [
    "state=data['State_Name'].unique()"
   ],
   "outputs": [],
   "execution_count": 121
  },
  {
   "cell_type": "code",
   "id": "d1435e48",
   "metadata": {
    "ExecuteTime": {
     "end_time": "2024-11-09T04:47:25.458643Z",
     "start_time": "2024-11-09T04:47:25.363662Z"
    }
   },
   "source": [
    "yield_per_state=[]\n",
    "for i in state:\n",
    "    yield_per_state.append(data[data['State_Name']==i]['Yield_ton_per_hec'].sum())"
   ],
   "outputs": [],
   "execution_count": 122
  },
  {
   "cell_type": "code",
   "id": "c9fc25c8",
   "metadata": {
    "ExecuteTime": {
     "end_time": "2024-11-09T04:47:25.471406Z",
     "start_time": "2024-11-09T04:47:25.468899Z"
    }
   },
   "source": [
    "yield_per_state"
   ],
   "outputs": [
    {
     "data": {
      "text/plain": [
       "[18460.600598219382,\n",
       " 2503.7502997609863,\n",
       " 18580.20606754187,\n",
       " 27242.00408526223,\n",
       " 76.66492962471077,\n",
       " 20667.18266864428,\n",
       " 12936.422303519663,\n",
       " 1604.9050308306269,\n",
       " 28403.2454399598,\n",
       " 11015.942505286459,\n",
       " 30178.991314972787,\n",
       " 16423.79358531559,\n",
       " 3473.1642495144565,\n",
       " 4272.149381137819,\n",
       " 1138.5604249789913,\n",
       " 3580.69516932342,\n",
       " 11962.904360250319,\n",
       " 2925.4507606806264,\n",
       " 10687.94949631986,\n",
       " 54955.663198510345,\n",
       " 10405.195206297121,\n",
       " 58618.23107398181,\n",
       " 14006.582216794022,\n",
       " 603.0818986568987,\n",
       " 219.40716821286372,\n",
       " 3202.8384333337162,\n",
       " 2381.3449299782824,\n",
       " 453.9555885717994,\n",
       " 1028.0599915927833,\n",
       " 411.09052772378544,\n",
       " 11667.501912527845,\n",
       " 5844.093420240404,\n",
       " 2589.7070537114696]"
      ]
     },
     "execution_count": 123,
     "metadata": {},
     "output_type": "execute_result"
    }
   ],
   "execution_count": 123
  },
  {
   "cell_type": "code",
   "id": "6998afd5",
   "metadata": {
    "ExecuteTime": {
     "end_time": "2024-11-09T04:47:25.738424Z",
     "start_time": "2024-11-09T04:47:25.490933Z"
    }
   },
   "source": [
    "plt.figure(figsize=(30,20))\n",
    "sns.barplot(y=state,x=yield_per_state)"
   ],
   "outputs": [
    {
     "data": {
      "text/plain": [
       "<Axes: >"
      ]
     },
     "execution_count": 124,
     "metadata": {},
     "output_type": "execute_result"
    },
    {
     "data": {
      "text/plain": [
       "<Figure size 3000x2000 with 1 Axes>"
      ],
      "image/png": "[encoded data removed]"
     },
     "metadata": {},
     "output_type": "display_data"
    }
   ],
   "execution_count": 124
  },
  {
   "cell_type": "code",
   "id": "751a87d4",
   "metadata": {
    "ExecuteTime": {
     "end_time": "2024-11-09T04:47:25.750852Z",
     "start_time": "2024-11-09T04:47:25.745916Z"
    }
   },
   "source": [
    "data['Crop'].unique()"
   ],
   "outputs": [
    {
     "data": {
      "text/plain": [
       "array(['cotton', 'horsegram', 'jowar', 'maize', 'moong', 'ragi', 'rice',\n",
       "       'sunflower', 'wheat', 'sesamum', 'soyabean', 'rapeseed', 'jute',\n",
       "       'arecanut', 'onion', 'potato', 'sweetpotato', 'tapioca',\n",
       "       'turmeric', 'barley', 'banana', 'coriander', 'garlic',\n",
       "       'blackpepper', 'cardamom', 'cashewnuts', 'blackgram', 'coffee',\n",
       "       'ladyfinger', 'brinjal', 'cucumber', 'grapes', 'mango', 'orange',\n",
       "       'papaya', 'tomato', 'cabbage', 'bottlegourd', 'pineapple',\n",
       "       'carrot', 'radish', 'bittergourd', 'drumstick', 'jackfruit',\n",
       "       'cauliflower', 'watermelon', 'ashgourd', 'beetroot', 'pomegranate',\n",
       "       'ridgegourd', 'pumpkin', 'apple', 'ginger'], dtype=object)"
      ]
     },
     "execution_count": 125,
     "metadata": {},
     "output_type": "execute_result"
    }
   ],
   "execution_count": 125
  },
  {
   "cell_type": "code",
   "id": "c39ad12d",
   "metadata": {
    "ExecuteTime": {
     "end_time": "2024-11-09T04:47:25.778938Z",
     "start_time": "2024-11-09T04:47:25.774043Z"
    }
   },
   "source": [
    "data['State_Name'].unique()"
   ],
   "outputs": [
    {
     "data": {
      "text/plain": [
       "array(['andhra pradesh', 'arunachal pradesh', 'assam', 'bihar', 'goa',\n",
       "       'gujarat', 'haryana', 'jammu and kashmir', 'karnataka', 'kerala',\n",
       "       'madhya pradesh', 'maharashtra', 'manipur', 'meghalaya', 'mizoram',\n",
       "       'nagaland', 'odisha', 'punjab', 'rajasthan', 'tamil nadu',\n",
       "       'telangana', 'uttar pradesh', 'west bengal', 'chandigarh',\n",
       "       'dadra and nagar haveli', 'himachal pradesh', 'puducherry',\n",
       "       'sikkim', 'tripura', 'andaman and nicobar islands', 'chhattisgarh',\n",
       "       'uttarakhand', 'jharkhand'], dtype=object)"
      ]
     },
     "execution_count": 126,
     "metadata": {},
     "output_type": "execute_result"
    }
   ],
   "execution_count": 126
  },
  {
   "cell_type": "code",
   "id": "fffee49e",
   "metadata": {
    "ExecuteTime": {
     "end_time": "2024-11-09T04:47:26.142558Z",
     "start_time": "2024-11-09T04:47:25.793607Z"
    }
   },
   "source": [
    "plt.figure(figsize=(30,20))\n",
    "sns.countplot(y=data['Crop'])"
   ],
   "outputs": [
    {
     "data": {
      "text/plain": [
       "<Axes: xlabel='count', ylabel='Crop'>"
      ]
     },
     "execution_count": 127,
     "metadata": {},
     "output_type": "execute_result"
    },
    {
     "data": {
      "text/plain": [
       "<Figure size 3000x2000 with 1 Axes>"
      ],
      "image/png": "[encoded data removed]"
     },
     "metadata": {},
     "output_type": "display_data"
    }
   ],
   "execution_count": 127
  },
  {
   "cell_type": "code",
   "id": "4e2686e0",
   "metadata": {
    "ExecuteTime": {
     "end_time": "2024-11-09T04:47:26.157996Z",
     "start_time": "2024-11-09T04:47:26.153633Z"
    }
   },
   "source": [
    "crop=data['Crop'].unique()"
   ],
   "outputs": [],
   "execution_count": 128
  },
  {
   "cell_type": "code",
   "id": "99e9fef9",
   "metadata": {
    "ExecuteTime": {
     "end_time": "2024-11-09T04:47:26.317947Z",
     "start_time": "2024-11-09T04:47:26.167562Z"
    }
   },
   "source": [
    "yield_per_crop=[]\n",
    "for i in crop:\n",
    "    yield_per_crop.append(data[data['Crop']==i]['Production_in_tons'].sum())"
   ],
   "outputs": [],
   "execution_count": 129
  },
  {
   "cell_type": "code",
   "id": "ed1589ee",
   "metadata": {
    "ExecuteTime": {
     "end_time": "2024-11-09T04:47:26.330871Z",
     "start_time": "2024-11-09T04:47:26.327961Z"
    }
   },
   "source": [
    "yield_per_crop"
   ],
   "outputs": [
    {
     "data": {
      "text/plain": [
       "[215863458.7,\n",
       " 3421521.5,\n",
       " 94942988.1,\n",
       " 195815340.17000002,\n",
       " 14748938.8,\n",
       " 27994205.880000003,\n",
       " 1188908027.8899999,\n",
       " 11484075.620000001,\n",
       " 1034657634.7,\n",
       " 8743265.7,\n",
       " 105009779.0,\n",
       " 79395769.02000001,\n",
       " 139545618.0,\n",
       " 11392150.32,\n",
       " 56370233.599999994,\n",
       " 315303440.16,\n",
       " 6280208.35,\n",
       " 87081394.66,\n",
       " 7442135.7299999995,\n",
       " 18729602.12,\n",
       " 118354933.05,\n",
       " 3423272.21,\n",
       " 6394674.7,\n",
       " 1256464.07,\n",
       " 120205.7,\n",
       " 1884503.4900000002,\n",
       " 41659.0,\n",
       " 130012.0,\n",
       " 316187.0,\n",
       " 880383.0,\n",
       " 0.0,\n",
       " 1728423.0,\n",
       " 5882123.0,\n",
       " 1594989.0,\n",
       " 1646858.0,\n",
       " 2379203.0,\n",
       " 239119.0,\n",
       " 526.0,\n",
       " 1015114.0,\n",
       " 4066.0,\n",
       " 3687.0,\n",
       " 297.0,\n",
       " 46153.0,\n",
       " 59266.0,\n",
       " 18433.0,\n",
       " 0.0,\n",
       " 0.0,\n",
       " 0.0,\n",
       " 0.0,\n",
       " 0.0,\n",
       " 0.0,\n",
       " 0.0,\n",
       " 38669.0]"
      ]
     },
     "execution_count": 130,
     "metadata": {},
     "output_type": "execute_result"
    }
   ],
   "execution_count": 130
  },
  {
   "cell_type": "code",
   "id": "6e9dbf16",
   "metadata": {
    "ExecuteTime": {
     "end_time": "2024-11-09T04:47:26.406624Z",
     "start_time": "2024-11-09T04:47:26.401179Z"
    }
   },
   "source": [
    "data #training of data yaha se start ho gaya hai"
   ],
   "outputs": [
    {
     "data": {
      "text/plain": [
       "           State_Name Crop_Type       Crop    N   P   K    pH  rainfall  \\\n",
       "0      andhra pradesh    kharif     cotton  120  40  20  5.46    654.34   \n",
       "1      andhra pradesh    kharif  horsegram   20  60  20  6.18    654.34   \n",
       "2      andhra pradesh    kharif      jowar   80  40  40  5.42    654.34   \n",
       "3      andhra pradesh    kharif      maize   80  40  20  5.62    654.34   \n",
       "4      andhra pradesh    kharif      moong   20  40  20  5.68    654.34   \n",
       "...               ...       ...        ...  ...  ..  ..   ...       ...   \n",
       "99844     west bengal      rabi      wheat   60  30  30  6.70    152.54   \n",
       "99845     west bengal    summer      maize   80  40  20  5.68    182.50   \n",
       "99846     west bengal    summer       rice   80  40  40  5.64    182.50   \n",
       "99847     west bengal      rabi       rice   80  40  40  5.42    152.54   \n",
       "99848     west bengal      rabi    sesamum   30  15  30  6.54    152.54   \n",
       "\n",
       "       temperature  Area_in_hectares  Production_in_tons  Yield_ton_per_hec  \n",
       "0        29.266667            7300.0              9400.0           1.287671  \n",
       "1        29.266667            3300.0              1000.0           0.303030  \n",
       "2        29.266667           10100.0             10200.0           1.009901  \n",
       "3        29.266667            2800.0              4900.0           1.750000  \n",
       "4        29.266667            1300.0               500.0           0.384615  \n",
       "...            ...               ...                 ...                ...  \n",
       "99844    22.280000            2013.0              5152.0           2.559364  \n",
       "99845    29.200000             258.0               391.0           1.515504  \n",
       "99846    29.200000             105.0               281.0           2.676190  \n",
       "99847    22.280000          152676.0            261435.0           1.712352  \n",
       "99848    22.280000             244.0                95.0           0.389344  \n",
       "\n",
       "[99849 rows x 12 columns]"
      ],
      "text/html": [
       "<div>\n",
       "<style scoped>\n",
       "    .dataframe tbody tr th:only-of-type {\n",
       "        vertical-align: middle;\n",
       "    }\n",
       "\n",
       "    .dataframe tbody tr th {\n",
       "        vertical-align: top;\n",
       "    }\n",
       "\n",
       "    .dataframe thead th {\n",
       "        text-align: right;\n",
       "    }\n",
       "</style>\n",
       "<table border=\"1\" class=\"dataframe\">\n",
       "  <thead>\n",
       "    <tr style=\"text-align: right;\">\n",
       "      <th></th>\n",
       "      <th>State_Name</th>\n",
       "      <th>Crop_Type</th>\n",
       "      <th>Crop</th>\n",
       "      <th>N</th>\n",
       "      <th>P</th>\n",
       "      <th>K</th>\n",
       "      <th>pH</th>\n",
       "      <th>rainfall</th>\n",
       "      <th>temperature</th>\n",
       "      <th>Area_in_hectares</th>\n",
       "      <th>Production_in_tons</th>\n",
       "      <th>Yield_ton_per_hec</th>\n",
       "    </tr>\n",
       "  </thead>\n",
       "  <tbody>\n",
       "    <tr>\n",
       "      <th>0</th>\n",
       "      <td>andhra pradesh</td>\n",
       "      <td>kharif</td>\n",
       "      <td>cotton</td>\n",
       "      <td>120</td>\n",
       "      <td>40</td>\n",
       "      <td>20</td>\n",
       "      <td>5.46</td>\n",
       "      <td>654.34</td>\n",
       "      <td>29.266667</td>\n",
       "      <td>7300.0</td>\n",
       "      <td>9400.0</td>\n",
       "      <td>1.287671</td>\n",
       "    </tr>\n",
       "    <tr>\n",
       "      <th>1</th>\n",
       "      <td>andhra pradesh</td>\n",
       "      <td>kharif</td>\n",
       "      <td>horsegram</td>\n",
       "      <td>20</td>\n",
       "      <td>60</td>\n",
       "      <td>20</td>\n",
       "      <td>6.18</td>\n",
       "      <td>654.34</td>\n",
       "      <td>29.266667</td>\n",
       "      <td>3300.0</td>\n",
       "      <td>1000.0</td>\n",
       "      <td>0.303030</td>\n",
       "    </tr>\n",
       "    <tr>\n",
       "      <th>2</th>\n",
       "      <td>andhra pradesh</td>\n",
       "      <td>kharif</td>\n",
       "      <td>jowar</td>\n",
       "      <td>80</td>\n",
       "      <td>40</td>\n",
       "      <td>40</td>\n",
       "      <td>5.42</td>\n",
       "      <td>654.34</td>\n",
       "      <td>29.266667</td>\n",
       "      <td>10100.0</td>\n",
       "      <td>10200.0</td>\n",
       "      <td>1.009901</td>\n",
       "    </tr>\n",
       "    <tr>\n",
       "      <th>3</th>\n",
       "      <td>andhra pradesh</td>\n",
       "      <td>kharif</td>\n",
       "      <td>maize</td>\n",
       "      <td>80</td>\n",
       "      <td>40</td>\n",
       "      <td>20</td>\n",
       "      <td>5.62</td>\n",
       "      <td>654.34</td>\n",
       "      <td>29.266667</td>\n",
       "      <td>2800.0</td>\n",
       "      <td>4900.0</td>\n",
       "      <td>1.750000</td>\n",
       "    </tr>\n",
       "    <tr>\n",
       "      <th>4</th>\n",
       "      <td>andhra pradesh</td>\n",
       "      <td>kharif</td>\n",
       "      <td>moong</td>\n",
       "      <td>20</td>\n",
       "      <td>40</td>\n",
       "      <td>20</td>\n",
       "      <td>5.68</td>\n",
       "      <td>654.34</td>\n",
       "      <td>29.266667</td>\n",
       "      <td>1300.0</td>\n",
       "      <td>500.0</td>\n",
       "      <td>0.384615</td>\n",
       "    </tr>\n",
       "    <tr>\n",
       "      <th>...</th>\n",
       "      <td>...</td>\n",
       "      <td>...</td>\n",
       "      <td>...</td>\n",
       "      <td>...</td>\n",
       "      <td>...</td>\n",
       "      <td>...</td>\n",
       "      <td>...</td>\n",
       "      <td>...</td>\n",
       "      <td>...</td>\n",
       "      <td>...</td>\n",
       "      <td>...</td>\n",
       "      <td>...</td>\n",
       "    </tr>\n",
       "    <tr>\n",
       "      <th>99844</th>\n",
       "      <td>west bengal</td>\n",
       "      <td>rabi</td>\n",
       "      <td>wheat</td>\n",
       "      <td>60</td>\n",
       "      <td>30</td>\n",
       "      <td>30</td>\n",
       "      <td>6.70</td>\n",
       "      <td>152.54</td>\n",
       "      <td>22.280000</td>\n",
       "      <td>2013.0</td>\n",
       "      <td>5152.0</td>\n",
       "      <td>2.559364</td>\n",
       "    </tr>\n",
       "    <tr>\n",
       "      <th>99845</th>\n",
       "      <td>west bengal</td>\n",
       "      <td>summer</td>\n",
       "      <td>maize</td>\n",
       "      <td>80</td>\n",
       "      <td>40</td>\n",
       "      <td>20</td>\n",
       "      <td>5.68</td>\n",
       "      <td>182.50</td>\n",
       "      <td>29.200000</td>\n",
       "      <td>258.0</td>\n",
       "      <td>391.0</td>\n",
       "      <td>1.515504</td>\n",
       "    </tr>\n",
       "    <tr>\n",
       "      <th>99846</th>\n",
       "      <td>west bengal</td>\n",
       "      <td>summer</td>\n",
       "      <td>rice</td>\n",
       "      <td>80</td>\n",
       "      <td>40</td>\n",
       "      <td>40</td>\n",
       "      <td>5.64</td>\n",
       "      <td>182.50</td>\n",
       "      <td>29.200000</td>\n",
       "      <td>105.0</td>\n",
       "      <td>281.0</td>\n",
       "      <td>2.676190</td>\n",
       "    </tr>\n",
       "    <tr>\n",
       "      <th>99847</th>\n",
       "      <td>west bengal</td>\n",
       "      <td>rabi</td>\n",
       "      <td>rice</td>\n",
       "      <td>80</td>\n",
       "      <td>40</td>\n",
       "      <td>40</td>\n",
       "      <td>5.42</td>\n",
       "      <td>152.54</td>\n",
       "      <td>22.280000</td>\n",
       "      <td>152676.0</td>\n",
       "      <td>261435.0</td>\n",
       "      <td>1.712352</td>\n",
       "    </tr>\n",
       "    <tr>\n",
       "      <th>99848</th>\n",
       "      <td>west bengal</td>\n",
       "      <td>rabi</td>\n",
       "      <td>sesamum</td>\n",
       "      <td>30</td>\n",
       "      <td>15</td>\n",
       "      <td>30</td>\n",
       "      <td>6.54</td>\n",
       "      <td>152.54</td>\n",
       "      <td>22.280000</td>\n",
       "      <td>244.0</td>\n",
       "      <td>95.0</td>\n",
       "      <td>0.389344</td>\n",
       "    </tr>\n",
       "  </tbody>\n",
       "</table>\n",
       "<p>99849 rows × 12 columns</p>\n",
       "</div>"
      ]
     },
     "execution_count": 131,
     "metadata": {},
     "output_type": "execute_result"
    }
   ],
   "execution_count": 131
  },
  {
   "cell_type": "code",
   "id": "86ae5953",
   "metadata": {
    "ExecuteTime": {
     "end_time": "2024-11-09T04:47:26.436377Z",
     "start_time": "2024-11-09T04:47:26.429566Z"
    }
   },
   "source": [
    "col = ['State_Name', 'Crop_Type', 'Crop', 'rainfall', 'N', 'P', 'K', 'pH', 'temperature', 'Area_in_hectares', 'Production_in_tons']\n",
    "data = data[col]\n",
    "x = data.iloc[:, :-1]\n",
    "y = data.iloc[:, -1]"
   ],
   "outputs": [],
   "execution_count": 132
  },
  {
   "cell_type": "code",
   "id": "4caac839",
   "metadata": {
    "ExecuteTime": {
     "end_time": "2024-11-09T04:47:26.467514Z",
     "start_time": "2024-11-09T04:47:26.455828Z"
    }
   },
   "source": [
    "data.head(4)"
   ],
   "outputs": [
    {
     "data": {
      "text/plain": [
       "       State_Name Crop_Type       Crop  rainfall    N   P   K    pH  \\\n",
       "0  andhra pradesh    kharif     cotton    654.34  120  40  20  5.46   \n",
       "1  andhra pradesh    kharif  horsegram    654.34   20  60  20  6.18   \n",
       "2  andhra pradesh    kharif      jowar    654.34   80  40  40  5.42   \n",
       "3  andhra pradesh    kharif      maize    654.34   80  40  20  5.62   \n",
       "\n",
       "   temperature  Area_in_hectares  Production_in_tons  \n",
       "0    29.266667            7300.0              9400.0  \n",
       "1    29.266667            3300.0              1000.0  \n",
       "2    29.266667           10100.0             10200.0  \n",
       "3    29.266667            2800.0              4900.0  "
      ],
      "text/html": [
       "<div>\n",
       "<style scoped>\n",
       "    .dataframe tbody tr th:only-of-type {\n",
       "        vertical-align: middle;\n",
       "    }\n",
       "\n",
       "    .dataframe tbody tr th {\n",
       "        vertical-align: top;\n",
       "    }\n",
       "\n",
       "    .dataframe thead th {\n",
       "        text-align: right;\n",
       "    }\n",
       "</style>\n",
       "<table border=\"1\" class=\"dataframe\">\n",
       "  <thead>\n",
       "    <tr style=\"text-align: right;\">\n",
       "      <th></th>\n",
       "      <th>State_Name</th>\n",
       "      <th>Crop_Type</th>\n",
       "      <th>Crop</th>\n",
       "      <th>rainfall</th>\n",
       "      <th>N</th>\n",
       "      <th>P</th>\n",
       "      <th>K</th>\n",
       "      <th>pH</th>\n",
       "      <th>temperature</th>\n",
       "      <th>Area_in_hectares</th>\n",
       "      <th>Production_in_tons</th>\n",
       "    </tr>\n",
       "  </thead>\n",
       "  <tbody>\n",
       "    <tr>\n",
       "      <th>0</th>\n",
       "      <td>andhra pradesh</td>\n",
       "      <td>kharif</td>\n",
       "      <td>cotton</td>\n",
       "      <td>654.34</td>\n",
       "      <td>120</td>\n",
       "      <td>40</td>\n",
       "      <td>20</td>\n",
       "      <td>5.46</td>\n",
       "      <td>29.266667</td>\n",
       "      <td>7300.0</td>\n",
       "      <td>9400.0</td>\n",
       "    </tr>\n",
       "    <tr>\n",
       "      <th>1</th>\n",
       "      <td>andhra pradesh</td>\n",
       "      <td>kharif</td>\n",
       "      <td>horsegram</td>\n",
       "      <td>654.34</td>\n",
       "      <td>20</td>\n",
       "      <td>60</td>\n",
       "      <td>20</td>\n",
       "      <td>6.18</td>\n",
       "      <td>29.266667</td>\n",
       "      <td>3300.0</td>\n",
       "      <td>1000.0</td>\n",
       "    </tr>\n",
       "    <tr>\n",
       "      <th>2</th>\n",
       "      <td>andhra pradesh</td>\n",
       "      <td>kharif</td>\n",
       "      <td>jowar</td>\n",
       "      <td>654.34</td>\n",
       "      <td>80</td>\n",
       "      <td>40</td>\n",
       "      <td>40</td>\n",
       "      <td>5.42</td>\n",
       "      <td>29.266667</td>\n",
       "      <td>10100.0</td>\n",
       "      <td>10200.0</td>\n",
       "    </tr>\n",
       "    <tr>\n",
       "      <th>3</th>\n",
       "      <td>andhra pradesh</td>\n",
       "      <td>kharif</td>\n",
       "      <td>maize</td>\n",
       "      <td>654.34</td>\n",
       "      <td>80</td>\n",
       "      <td>40</td>\n",
       "      <td>20</td>\n",
       "      <td>5.62</td>\n",
       "      <td>29.266667</td>\n",
       "      <td>2800.0</td>\n",
       "      <td>4900.0</td>\n",
       "    </tr>\n",
       "  </tbody>\n",
       "</table>\n",
       "</div>"
      ]
     },
     "execution_count": 133,
     "metadata": {},
     "output_type": "execute_result"
    }
   ],
   "execution_count": 133
  },
  {
   "cell_type": "code",
   "id": "b8525f72",
   "metadata": {
    "ExecuteTime": {
     "end_time": "2024-11-09T04:47:26.537459Z",
     "start_time": "2024-11-09T04:47:26.535264Z"
    }
   },
   "source": [
    "from sklearn.model_selection import train_test_split"
   ],
   "outputs": [],
   "execution_count": 134
  },
  {
   "cell_type": "code",
   "id": "f5165aad",
   "metadata": {
    "ExecuteTime": {
     "end_time": "2024-11-09T04:47:26.578512Z",
     "start_time": "2024-11-09T04:47:26.569662Z"
    }
   },
   "source": [
    "x_train,x_test,y_train,y_test=train_test_split(x,y,test_size=0.2, random_state=42)"
   ],
   "outputs": [],
   "execution_count": 135
  },
  {
   "cell_type": "code",
   "id": "aa425ae3",
   "metadata": {
    "ExecuteTime": {
     "end_time": "2024-11-09T04:47:26.602960Z",
     "start_time": "2024-11-09T04:47:26.599725Z"
    }
   },
   "source": [
    "x_train.shape"
   ],
   "outputs": [
    {
     "data": {
      "text/plain": [
       "(79879, 10)"
      ]
     },
     "execution_count": 136,
     "metadata": {},
     "output_type": "execute_result"
    }
   ],
   "execution_count": 136
  },
  {
   "cell_type": "code",
   "id": "86ba249f",
   "metadata": {
    "ExecuteTime": {
     "end_time": "2024-11-09T04:47:26.619177Z",
     "start_time": "2024-11-09T04:47:26.613755Z"
    }
   },
   "source": [
    "x_train"
   ],
   "outputs": [
    {
     "data": {
      "text/plain": [
       "          State_Name   Crop_Type       Crop  rainfall    N   P   K    pH  \\\n",
       "9951   uttar pradesh        rabi  sunflower     75.32   50  60  30  5.58   \n",
       "99832    west bengal        rabi    sesamum    152.54   30  15  30  6.66   \n",
       "19028          bihar  whole year  coriander   1026.64   10  20  20  6.48   \n",
       "38544      telangana      kharif      moong    770.44   20  40  20  5.60   \n",
       "63101    west bengal      kharif       jute   1166.94   80  40  40  5.38   \n",
       "...              ...         ...        ...       ...  ...  ..  ..   ...   \n",
       "6265         gujarat  whole year     banana    810.26  100  75  50  6.66   \n",
       "54886  uttar pradesh      kharif    sesamum    579.75   30  15  30  6.56   \n",
       "76820  uttar pradesh        rabi     potato     75.32  180  60  90  4.88   \n",
       "860            bihar        rabi      wheat     87.20   60  30  30  6.40   \n",
       "15795      rajasthan      kharif    sesamum    510.05   30  15  30  6.34   \n",
       "\n",
       "       temperature  Area_in_hectares  \n",
       "9951     22.676000               6.0  \n",
       "99832    22.280000              10.0  \n",
       "19028    29.186364              12.0  \n",
       "38544    28.680000           20315.0  \n",
       "63101    28.333333           31005.0  \n",
       "...            ...               ...  \n",
       "6265     29.956364             100.0  \n",
       "54886    34.010000             496.0  \n",
       "76820    22.676000            2343.0  \n",
       "860      23.106000           19589.0  \n",
       "15795    33.373333            5214.0  \n",
       "\n",
       "[79879 rows x 10 columns]"
      ],
      "text/html": [
       "<div>\n",
       "<style scoped>\n",
       "    .dataframe tbody tr th:only-of-type {\n",
       "        vertical-align: middle;\n",
       "    }\n",
       "\n",
       "    .dataframe tbody tr th {\n",
       "        vertical-align: top;\n",
       "    }\n",
       "\n",
       "    .dataframe thead th {\n",
       "        text-align: right;\n",
       "    }\n",
       "</style>\n",
       "<table border=\"1\" class=\"dataframe\">\n",
       "  <thead>\n",
       "    <tr style=\"text-align: right;\">\n",
       "      <th></th>\n",
       "      <th>State_Name</th>\n",
       "      <th>Crop_Type</th>\n",
       "      <th>Crop</th>\n",
       "      <th>rainfall</th>\n",
       "      <th>N</th>\n",
       "      <th>P</th>\n",
       "      <th>K</th>\n",
       "      <th>pH</th>\n",
       "      <th>temperature</th>\n",
       "      <th>Area_in_hectares</th>\n",
       "    </tr>\n",
       "  </thead>\n",
       "  <tbody>\n",
       "    <tr>\n",
       "      <th>9951</th>\n",
       "      <td>uttar pradesh</td>\n",
       "      <td>rabi</td>\n",
       "      <td>sunflower</td>\n",
       "      <td>75.32</td>\n",
       "      <td>50</td>\n",
       "      <td>60</td>\n",
       "      <td>30</td>\n",
       "      <td>5.58</td>\n",
       "      <td>22.676000</td>\n",
       "      <td>6.0</td>\n",
       "    </tr>\n",
       "    <tr>\n",
       "      <th>99832</th>\n",
       "      <td>west bengal</td>\n",
       "      <td>rabi</td>\n",
       "      <td>sesamum</td>\n",
       "      <td>152.54</td>\n",
       "      <td>30</td>\n",
       "      <td>15</td>\n",
       "      <td>30</td>\n",
       "      <td>6.66</td>\n",
       "      <td>22.280000</td>\n",
       "      <td>10.0</td>\n",
       "    </tr>\n",
       "    <tr>\n",
       "      <th>19028</th>\n",
       "      <td>bihar</td>\n",
       "      <td>whole year</td>\n",
       "      <td>coriander</td>\n",
       "      <td>1026.64</td>\n",
       "      <td>10</td>\n",
       "      <td>20</td>\n",
       "      <td>20</td>\n",
       "      <td>6.48</td>\n",
       "      <td>29.186364</td>\n",
       "      <td>12.0</td>\n",
       "    </tr>\n",
       "    <tr>\n",
       "      <th>38544</th>\n",
       "      <td>telangana</td>\n",
       "      <td>kharif</td>\n",
       "      <td>moong</td>\n",
       "      <td>770.44</td>\n",
       "      <td>20</td>\n",
       "      <td>40</td>\n",
       "      <td>20</td>\n",
       "      <td>5.60</td>\n",
       "      <td>28.680000</td>\n",
       "      <td>20315.0</td>\n",
       "    </tr>\n",
       "    <tr>\n",
       "      <th>63101</th>\n",
       "      <td>west bengal</td>\n",
       "      <td>kharif</td>\n",
       "      <td>jute</td>\n",
       "      <td>1166.94</td>\n",
       "      <td>80</td>\n",
       "      <td>40</td>\n",
       "      <td>40</td>\n",
       "      <td>5.38</td>\n",
       "      <td>28.333333</td>\n",
       "      <td>31005.0</td>\n",
       "    </tr>\n",
       "    <tr>\n",
       "      <th>...</th>\n",
       "      <td>...</td>\n",
       "      <td>...</td>\n",
       "      <td>...</td>\n",
       "      <td>...</td>\n",
       "      <td>...</td>\n",
       "      <td>...</td>\n",
       "      <td>...</td>\n",
       "      <td>...</td>\n",
       "      <td>...</td>\n",
       "      <td>...</td>\n",
       "    </tr>\n",
       "    <tr>\n",
       "      <th>6265</th>\n",
       "      <td>gujarat</td>\n",
       "      <td>whole year</td>\n",
       "      <td>banana</td>\n",
       "      <td>810.26</td>\n",
       "      <td>100</td>\n",
       "      <td>75</td>\n",
       "      <td>50</td>\n",
       "      <td>6.66</td>\n",
       "      <td>29.956364</td>\n",
       "      <td>100.0</td>\n",
       "    </tr>\n",
       "    <tr>\n",
       "      <th>54886</th>\n",
       "      <td>uttar pradesh</td>\n",
       "      <td>kharif</td>\n",
       "      <td>sesamum</td>\n",
       "      <td>579.75</td>\n",
       "      <td>30</td>\n",
       "      <td>15</td>\n",
       "      <td>30</td>\n",
       "      <td>6.56</td>\n",
       "      <td>34.010000</td>\n",
       "      <td>496.0</td>\n",
       "    </tr>\n",
       "    <tr>\n",
       "      <th>76820</th>\n",
       "      <td>uttar pradesh</td>\n",
       "      <td>rabi</td>\n",
       "      <td>potato</td>\n",
       "      <td>75.32</td>\n",
       "      <td>180</td>\n",
       "      <td>60</td>\n",
       "      <td>90</td>\n",
       "      <td>4.88</td>\n",
       "      <td>22.676000</td>\n",
       "      <td>2343.0</td>\n",
       "    </tr>\n",
       "    <tr>\n",
       "      <th>860</th>\n",
       "      <td>bihar</td>\n",
       "      <td>rabi</td>\n",
       "      <td>wheat</td>\n",
       "      <td>87.20</td>\n",
       "      <td>60</td>\n",
       "      <td>30</td>\n",
       "      <td>30</td>\n",
       "      <td>6.40</td>\n",
       "      <td>23.106000</td>\n",
       "      <td>19589.0</td>\n",
       "    </tr>\n",
       "    <tr>\n",
       "      <th>15795</th>\n",
       "      <td>rajasthan</td>\n",
       "      <td>kharif</td>\n",
       "      <td>sesamum</td>\n",
       "      <td>510.05</td>\n",
       "      <td>30</td>\n",
       "      <td>15</td>\n",
       "      <td>30</td>\n",
       "      <td>6.34</td>\n",
       "      <td>33.373333</td>\n",
       "      <td>5214.0</td>\n",
       "    </tr>\n",
       "  </tbody>\n",
       "</table>\n",
       "<p>79879 rows × 10 columns</p>\n",
       "</div>"
      ]
     },
     "execution_count": 137,
     "metadata": {},
     "output_type": "execute_result"
    }
   ],
   "execution_count": 137
  },
  {
   "cell_type": "code",
   "id": "95b9cd10",
   "metadata": {
    "ExecuteTime": {
     "end_time": "2024-11-09T04:47:26.649494Z",
     "start_time": "2024-11-09T04:47:26.647622Z"
    }
   },
   "source": [
    "from sklearn.preprocessing import OneHotEncoder, StandardScaler\n",
    "from sklearn.compose import ColumnTransformer"
   ],
   "outputs": [],
   "execution_count": 138
  },
  {
   "cell_type": "code",
   "id": "59038e3e",
   "metadata": {
    "ExecuteTime": {
     "end_time": "2024-11-09T04:47:26.675807Z",
     "start_time": "2024-11-09T04:47:26.673078Z"
    }
   },
   "source": [
    "ohe=OneHotEncoder(drop='first',handle_unknown='ignore')\n",
    "scaler=StandardScaler()"
   ],
   "outputs": [],
   "execution_count": 139
  },
  {
   "cell_type": "code",
   "id": "bcc6f24d",
   "metadata": {
    "ExecuteTime": {
     "end_time": "2024-11-09T04:47:26.695792Z",
     "start_time": "2024-11-09T04:47:26.693548Z"
    }
   },
   "source": [
    "preprocessor=ColumnTransformer(\n",
    "transformers=[\n",
    "    ('onehotencoders',ohe,[0,1,2]),\n",
    "    ('standarization',scaler,[3,4,5,6,7,8,9])\n",
    "],\n",
    "remainder='passthrough'\n",
    ")"
   ],
   "outputs": [],
   "execution_count": 140
  },
  {
   "cell_type": "code",
   "id": "d331afb8",
   "metadata": {
    "ExecuteTime": {
     "end_time": "2024-11-09T04:47:26.712318Z",
     "start_time": "2024-11-09T04:47:26.707859Z"
    }
   },
   "source": [
    "preprocessor"
   ],
   "outputs": [
    {
     "data": {
      "text/plain": [
       "ColumnTransformer(remainder='passthrough',\n",
       "                  transformers=[('onehotencoders',\n",
       "                                 OneHotEncoder(drop='first',\n",
       "                                               handle_unknown='ignore'),\n",
       "                                 [0, 1, 2]),\n",
       "                                ('standarization', StandardScaler(),\n",
       "                                 [3, 4, 5, 6, 7, 8, 9])])"
      ],
      "text/html": [
       "<style>#sk-container-id-3 {\n",
       "  /* Definition of color scheme common for light and dark mode */\n",
       "  --sklearn-color-text: black;\n",
       "  --sklearn-color-line: gray;\n",
       "  /* Definition of color scheme for unfitted estimators */\n",
       "  --sklearn-color-unfitted-level-0: #fff5e6;\n",
       "  --sklearn-color-unfitted-level-1: #f6e4d2;\n",
       "  --sklearn-color-unfitted-level-2: #ffe0b3;\n",
       "  --sklearn-color-unfitted-level-3: chocolate;\n",
       "  /* Definition of color scheme for fitted estimators */\n",
       "  --sklearn-color-fitted-level-0: #f0f8ff;\n",
       "  --sklearn-color-fitted-level-1: #d4ebff;\n",
       "  --sklearn-color-fitted-level-2: #b3dbfd;\n",
       "  --sklearn-color-fitted-level-3: cornflowerblue;\n",
       "\n",
       "  /* Specific color for light theme */\n",
       "  --sklearn-color-text-on-default-background: var(--sg-text-color, var(--theme-code-foreground, var(--jp-content-font-color1, black)));\n",
       "  --sklearn-color-background: var(--sg-background-color, var(--theme-background, var(--jp-layout-color0, white)));\n",
       "  --sklearn-color-border-box: var(--sg-text-color, var(--theme-code-foreground, var(--jp-content-font-color1, black)));\n",
       "  --sklearn-color-icon: #696969;\n",
       "\n",
       "  @media (prefers-color-scheme: dark) {\n",
       "    /* Redefinition of color scheme for dark theme */\n",
       "    --sklearn-color-text-on-default-background: var(--sg-text-color, var(--theme-code-foreground, var(--jp-content-font-color1, white)));\n",
       "    --sklearn-color-background: var(--sg-background-color, var(--theme-background, var(--jp-layout-color0, #111)));\n",
       "    --sklearn-color-border-box: var(--sg-text-color, var(--theme-code-foreground, var(--jp-content-font-color1, white)));\n",
       "    --sklearn-color-icon: #878787;\n",
       "  }\n",
       "}\n",
       "\n",
       "#sk-container-id-3 {\n",
       "  color: var(--sklearn-color-text);\n",
       "}\n",
       "\n",
       "#sk-container-id-3 pre {\n",
       "  padding: 0;\n",
       "}\n",
       "\n",
       "#sk-container-id-3 input.sk-hidden--visually {\n",
       "  border: 0;\n",
       "  clip: rect(1px 1px 1px 1px);\n",
       "  clip: rect(1px, 1px, 1px, 1px);\n",
       "  height: 1px;\n",
       "  margin: -1px;\n",
       "  overflow: hidden;\n",
       "  padding: 0;\n",
       "  position: absolute;\n",
       "  width: 1px;\n",
       "}\n",
       "\n",
       "#sk-container-id-3 div.sk-dashed-wrapped {\n",
       "  border: 1px dashed var(--sklearn-color-line);\n",
       "  margin: 0 0.4em 0.5em 0.4em;\n",
       "  box-sizing: border-box;\n",
       "  padding-bottom: 0.4em;\n",
       "  background-color: var(--sklearn-color-background);\n",
       "}\n",
       "\n",
       "#sk-container-id-3 div.sk-container {\n",
       "  /* jupyter's `normalize.less` sets `[hidden] { display: none; }`\n",
       "     but bootstrap.min.css set `[hidden] { display: none !important; }`\n",
       "     so we also need the `!important` here to be able to override the\n",
       "     default hidden behavior on the sphinx rendered scikit-learn.org.\n",
       "     See: https://github.com/scikit-learn/scikit-learn/issues/21755 */\n",
       "  display: inline-block !important;\n",
       "  position: relative;\n",
       "}\n",
       "\n",
       "#sk-container-id-3 div.sk-text-repr-fallback {\n",
       "  display: none;\n",
       "}\n",
       "\n",
       "div.sk-parallel-item,\n",
       "div.sk-serial,\n",
       "div.sk-item {\n",
       "  /* draw centered vertical line to link estimators */\n",
       "  background-image: linear-gradient(var(--sklearn-color-text-on-default-background), var(--sklearn-color-text-on-default-background));\n",
       "  background-size: 2px 100%;\n",
       "  background-repeat: no-repeat;\n",
       "  background-position: center center;\n",
       "}\n",
       "\n",
       "/* Parallel-specific style estimator block */\n",
       "\n",
       "#sk-container-id-3 div.sk-parallel-item::after {\n",
       "  content: \"\";\n",
       "  width: 100%;\n",
       "  border-bottom: 2px solid var(--sklearn-color-text-on-default-background);\n",
       "  flex-grow: 1;\n",
       "}\n",
       "\n",
       "#sk-container-id-3 div.sk-parallel {\n",
       "  display: flex;\n",
       "  align-items: stretch;\n",
       "  justify-content: center;\n",
       "  background-color: var(--sklearn-color-background);\n",
       "  position: relative;\n",
       "}\n",
       "\n",
       "#sk-container-id-3 div.sk-parallel-item {\n",
       "  display: flex;\n",
       "  flex-direction: column;\n",
       "}\n",
       "\n",
       "#sk-container-id-3 div.sk-parallel-item:first-child::after {\n",
       "  align-self: flex-end;\n",
       "  width: 50%;\n",
       "}\n",
       "\n",
       "#sk-container-id-3 div.sk-parallel-item:last-child::after {\n",
       "  align-self: flex-start;\n",
       "  width: 50%;\n",
       "}\n",
       "\n",
       "#sk-container-id-3 div.sk-parallel-item:only-child::after {\n",
       "  width: 0;\n",
       "}\n",
       "\n",
       "/* Serial-specific style estimator block */\n",
       "\n",
       "#sk-container-id-3 div.sk-serial {\n",
       "  display: flex;\n",
       "  flex-direction: column;\n",
       "  align-items: center;\n",
       "  background-color: var(--sklearn-color-background);\n",
       "  padding-right: 1em;\n",
       "  padding-left: 1em;\n",
       "}\n",
       "\n",
       "\n",
       "/* Toggleable style: style used for estimator/Pipeline/ColumnTransformer box that is\n",
       "clickable and can be expanded/collapsed.\n",
       "- Pipeline and ColumnTransformer use this feature and define the default style\n",
       "- Estimators will overwrite some part of the style using the `sk-estimator` class\n",
       "*/\n",
       "\n",
       "/* Pipeline and ColumnTransformer style (default) */\n",
       "\n",
       "#sk-container-id-3 div.sk-toggleable {\n",
       "  /* Default theme specific background. It is overwritten whether we have a\n",
       "  specific estimator or a Pipeline/ColumnTransformer */\n",
       "  background-color: var(--sklearn-color-background);\n",
       "}\n",
       "\n",
       "/* Toggleable label */\n",
       "#sk-container-id-3 label.sk-toggleable__label {\n",
       "  cursor: pointer;\n",
       "  display: block;\n",
       "  width: 100%;\n",
       "  margin-bottom: 0;\n",
       "  padding: 0.5em;\n",
       "  box-sizing: border-box;\n",
       "  text-align: center;\n",
       "}\n",
       "\n",
       "#sk-container-id-3 label.sk-toggleable__label-arrow:before {\n",
       "  /* Arrow on the left of the label */\n",
       "  content: \"▸\";\n",
       "  float: left;\n",
       "  margin-right: 0.25em;\n",
       "  color: var(--sklearn-color-icon);\n",
       "}\n",
       "\n",
       "#sk-container-id-3 label.sk-toggleable__label-arrow:hover:before {\n",
       "  color: var(--sklearn-color-text);\n",
       "}\n",
       "\n",
       "/* Toggleable content - dropdown */\n",
       "\n",
       "#sk-container-id-3 div.sk-toggleable__content {\n",
       "  max-height: 0;\n",
       "  max-width: 0;\n",
       "  overflow: hidden;\n",
       "  text-align: left;\n",
       "  /* unfitted */\n",
       "  background-color: var(--sklearn-color-unfitted-level-0);\n",
       "}\n",
       "\n",
       "#sk-container-id-3 div.sk-toggleable__content.fitted {\n",
       "  /* fitted */\n",
       "  background-color: var(--sklearn-color-fitted-level-0);\n",
       "}\n",
       "\n",
       "#sk-container-id-3 div.sk-toggleable__content pre {\n",
       "  margin: 0.2em;\n",
       "  border-radius: 0.25em;\n",
       "  color: var(--sklearn-color-text);\n",
       "  /* unfitted */\n",
       "  background-color: var(--sklearn-color-unfitted-level-0);\n",
       "}\n",
       "\n",
       "#sk-container-id-3 div.sk-toggleable__content.fitted pre {\n",
       "  /* unfitted */\n",
       "  background-color: var(--sklearn-color-fitted-level-0);\n",
       "}\n",
       "\n",
       "#sk-container-id-3 input.sk-toggleable__control:checked~div.sk-toggleable__content {\n",
       "  /* Expand drop-down */\n",
       "  max-height: 200px;\n",
       "  max-width: 100%;\n",
       "  overflow: auto;\n",
       "}\n",
       "\n",
       "#sk-container-id-3 input.sk-toggleable__control:checked~label.sk-toggleable__label-arrow:before {\n",
       "  content: \"▾\";\n",
       "}\n",
       "\n",
       "/* Pipeline/ColumnTransformer-specific style */\n",
       "\n",
       "#sk-container-id-3 div.sk-label input.sk-toggleable__control:checked~label.sk-toggleable__label {\n",
       "  color: var(--sklearn-color-text);\n",
       "  background-color: var(--sklearn-color-unfitted-level-2);\n",
       "}\n",
       "\n",
       "#sk-container-id-3 div.sk-label.fitted input.sk-toggleable__control:checked~label.sk-toggleable__label {\n",
       "  background-color: var(--sklearn-color-fitted-level-2);\n",
       "}\n",
       "\n",
       "/* Estimator-specific style */\n",
       "\n",
       "/* Colorize estimator box */\n",
       "#sk-container-id-3 div.sk-estimator input.sk-toggleable__control:checked~label.sk-toggleable__label {\n",
       "  /* unfitted */\n",
       "  background-color: var(--sklearn-color-unfitted-level-2);\n",
       "}\n",
       "\n",
       "#sk-container-id-3 div.sk-estimator.fitted input.sk-toggleable__control:checked~label.sk-toggleable__label {\n",
       "  /* fitted */\n",
       "  background-color: var(--sklearn-color-fitted-level-2);\n",
       "}\n",
       "\n",
       "#sk-container-id-3 div.sk-label label.sk-toggleable__label,\n",
       "#sk-container-id-3 div.sk-label label {\n",
       "  /* The background is the default theme color */\n",
       "  color: var(--sklearn-color-text-on-default-background);\n",
       "}\n",
       "\n",
       "/* On hover, darken the color of the background */\n",
       "#sk-container-id-3 div.sk-label:hover label.sk-toggleable__label {\n",
       "  color: var(--sklearn-color-text);\n",
       "  background-color: var(--sklearn-color-unfitted-level-2);\n",
       "}\n",
       "\n",
       "/* Label box, darken color on hover, fitted */\n",
       "#sk-container-id-3 div.sk-label.fitted:hover label.sk-toggleable__label.fitted {\n",
       "  color: var(--sklearn-color-text);\n",
       "  background-color: var(--sklearn-color-fitted-level-2);\n",
       "}\n",
       "\n",
       "/* Estimator label */\n",
       "\n",
       "#sk-container-id-3 div.sk-label label {\n",
       "  font-family: monospace;\n",
       "  font-weight: bold;\n",
       "  display: inline-block;\n",
       "  line-height: 1.2em;\n",
       "}\n",
       "\n",
       "#sk-container-id-3 div.sk-label-container {\n",
       "  text-align: center;\n",
       "}\n",
       "\n",
       "/* Estimator-specific */\n",
       "#sk-container-id-3 div.sk-estimator {\n",
       "  font-family: monospace;\n",
       "  border: 1px dotted var(--sklearn-color-border-box);\n",
       "  border-radius: 0.25em;\n",
       "  box-sizing: border-box;\n",
       "  margin-bottom: 0.5em;\n",
       "  /* unfitted */\n",
       "  background-color: var(--sklearn-color-unfitted-level-0);\n",
       "}\n",
       "\n",
       "#sk-container-id-3 div.sk-estimator.fitted {\n",
       "  /* fitted */\n",
       "  background-color: var(--sklearn-color-fitted-level-0);\n",
       "}\n",
       "\n",
       "/* on hover */\n",
       "#sk-container-id-3 div.sk-estimator:hover {\n",
       "  /* unfitted */\n",
       "  background-color: var(--sklearn-color-unfitted-level-2);\n",
       "}\n",
       "\n",
       "#sk-container-id-3 div.sk-estimator.fitted:hover {\n",
       "  /* fitted */\n",
       "  background-color: var(--sklearn-color-fitted-level-2);\n",
       "}\n",
       "\n",
       "/* Specification for estimator info (e.g. \"i\" and \"?\") */\n",
       "\n",
       "/* Common style for \"i\" and \"?\" */\n",
       "\n",
       ".sk-estimator-doc-link,\n",
       "a:link.sk-estimator-doc-link,\n",
       "a:visited.sk-estimator-doc-link {\n",
       "  float: right;\n",
       "  font-size: smaller;\n",
       "  line-height: 1em;\n",
       "  font-family: monospace;\n",
       "  background-color: var(--sklearn-color-background);\n",
       "  border-radius: 1em;\n",
       "  height: 1em;\n",
       "  width: 1em;\n",
       "  text-decoration: none !important;\n",
       "  margin-left: 1ex;\n",
       "  /* unfitted */\n",
       "  border: var(--sklearn-color-unfitted-level-1) 1pt solid;\n",
       "  color: var(--sklearn-color-unfitted-level-1);\n",
       "}\n",
       "\n",
       ".sk-estimator-doc-link.fitted,\n",
       "a:link.sk-estimator-doc-link.fitted,\n",
       "a:visited.sk-estimator-doc-link.fitted {\n",
       "  /* fitted */\n",
       "  border: var(--sklearn-color-fitted-level-1) 1pt solid;\n",
       "  color: var(--sklearn-color-fitted-level-1);\n",
       "}\n",
       "\n",
       "/* On hover */\n",
       "div.sk-estimator:hover .sk-estimator-doc-link:hover,\n",
       ".sk-estimator-doc-link:hover,\n",
       "div.sk-label-container:hover .sk-estimator-doc-link:hover,\n",
       ".sk-estimator-doc-link:hover {\n",
       "  /* unfitted */\n",
       "  background-color: var(--sklearn-color-unfitted-level-3);\n",
       "  color: var(--sklearn-color-background);\n",
       "  text-decoration: none;\n",
       "}\n",
       "\n",
       "div.sk-estimator.fitted:hover .sk-estimator-doc-link.fitted:hover,\n",
       ".sk-estimator-doc-link.fitted:hover,\n",
       "div.sk-label-container:hover .sk-estimator-doc-link.fitted:hover,\n",
       ".sk-estimator-doc-link.fitted:hover {\n",
       "  /* fitted */\n",
       "  background-color: var(--sklearn-color-fitted-level-3);\n",
       "  color: var(--sklearn-color-background);\n",
       "  text-decoration: none;\n",
       "}\n",
       "\n",
       "/* Span, style for the box shown on hovering the info icon */\n",
       ".sk-estimator-doc-link span {\n",
       "  display: none;\n",
       "  z-index: 9999;\n",
       "  position: relative;\n",
       "  font-weight: normal;\n",
       "  right: .2ex;\n",
       "  padding: .5ex;\n",
       "  margin: .5ex;\n",
       "  width: min-content;\n",
       "  min-width: 20ex;\n",
       "  max-width: 50ex;\n",
       "  color: var(--sklearn-color-text);\n",
       "  box-shadow: 2pt 2pt 4pt #999;\n",
       "  /* unfitted */\n",
       "  background: var(--sklearn-color-unfitted-level-0);\n",
       "  border: .5pt solid var(--sklearn-color-unfitted-level-3);\n",
       "}\n",
       "\n",
       ".sk-estimator-doc-link.fitted span {\n",
       "  /* fitted */\n",
       "  background: var(--sklearn-color-fitted-level-0);\n",
       "  border: var(--sklearn-color-fitted-level-3);\n",
       "}\n",
       "\n",
       ".sk-estimator-doc-link:hover span {\n",
       "  display: block;\n",
       "}\n",
       "\n",
       "/* \"?\"-specific style due to the `<a>` HTML tag */\n",
       "\n",
       "#sk-container-id-3 a.estimator_doc_link {\n",
       "  float: right;\n",
       "  font-size: 1rem;\n",
       "  line-height: 1em;\n",
       "  font-family: monospace;\n",
       "  background-color: var(--sklearn-color-background);\n",
       "  border-radius: 1rem;\n",
       "  height: 1rem;\n",
       "  width: 1rem;\n",
       "  text-decoration: none;\n",
       "  /* unfitted */\n",
       "  color: var(--sklearn-color-unfitted-level-1);\n",
       "  border: var(--sklearn-color-unfitted-level-1) 1pt solid;\n",
       "}\n",
       "\n",
       "#sk-container-id-3 a.estimator_doc_link.fitted {\n",
       "  /* fitted */\n",
       "  border: var(--sklearn-color-fitted-level-1) 1pt solid;\n",
       "  color: var(--sklearn-color-fitted-level-1);\n",
       "}\n",
       "\n",
       "/* On hover */\n",
       "#sk-container-id-3 a.estimator_doc_link:hover {\n",
       "  /* unfitted */\n",
       "  background-color: var(--sklearn-color-unfitted-level-3);\n",
       "  color: var(--sklearn-color-background);\n",
       "  text-decoration: none;\n",
       "}\n",
       "\n",
       "#sk-container-id-3 a.estimator_doc_link.fitted:hover {\n",
       "  /* fitted */\n",
       "  background-color: var(--sklearn-color-fitted-level-3);\n",
       "}\n",
       "</style><div id=\"sk-container-id-3\" class=\"sk-top-container\"><div class=\"sk-text-repr-fallback\"><pre>ColumnTransformer(remainder=&#x27;passthrough&#x27;,\n",
       "                  transformers=[(&#x27;onehotencoders&#x27;,\n",
       "                                 OneHotEncoder(drop=&#x27;first&#x27;,\n",
       "                                               handle_unknown=&#x27;ignore&#x27;),\n",
       "                                 [0, 1, 2]),\n",
       "                                (&#x27;standarization&#x27;, StandardScaler(),\n",
       "                                 [3, 4, 5, 6, 7, 8, 9])])</pre><b>In a Jupyter environment, please rerun this cell to show the HTML representation or trust the notebook. <br />On GitHub, the HTML representation is unable to render, please try loading this page with nbviewer.org.</b></div><div class=\"sk-container\" hidden><div class=\"sk-item sk-dashed-wrapped\"><div class=\"sk-label-container\"><div class=\"sk-label  sk-toggleable\"><input class=\"sk-toggleable__control sk-hidden--visually\" id=\"sk-estimator-id-15\" type=\"checkbox\" ><label for=\"sk-estimator-id-15\" class=\"sk-toggleable__label  sk-toggleable__label-arrow \">&nbsp;&nbsp;ColumnTransformer<a class=\"sk-estimator-doc-link \" rel=\"noreferrer\" target=\"_blank\" href=\"https://scikit-learn.org/1.5/modules/generated/sklearn.compose.ColumnTransformer.html\">?<span>Documentation for ColumnTransformer</span></a><span class=\"sk-estimator-doc-link \">i<span>Not fitted</span></span></label><div class=\"sk-toggleable__content \"><pre>ColumnTransformer(remainder=&#x27;passthrough&#x27;,\n",
       "                  transformers=[(&#x27;onehotencoders&#x27;,\n",
       "                                 OneHotEncoder(drop=&#x27;first&#x27;,\n",
       "                                               handle_unknown=&#x27;ignore&#x27;),\n",
       "                                 [0, 1, 2]),\n",
       "                                (&#x27;standarization&#x27;, StandardScaler(),\n",
       "                                 [3, 4, 5, 6, 7, 8, 9])])</pre></div> </div></div><div class=\"sk-parallel\"><div class=\"sk-parallel-item\"><div class=\"sk-item\"><div class=\"sk-label-container\"><div class=\"sk-label  sk-toggleable\"><input class=\"sk-toggleable__control sk-hidden--visually\" id=\"sk-estimator-id-16\" type=\"checkbox\" ><label for=\"sk-estimator-id-16\" class=\"sk-toggleable__label  sk-toggleable__label-arrow \">onehotencoders</label><div class=\"sk-toggleable__content \"><pre>[0, 1, 2]</pre></div> </div></div><div class=\"sk-serial\"><div class=\"sk-item\"><div class=\"sk-estimator  sk-toggleable\"><input class=\"sk-toggleable__control sk-hidden--visually\" id=\"sk-estimator-id-17\" type=\"checkbox\" ><label for=\"sk-estimator-id-17\" class=\"sk-toggleable__label  sk-toggleable__label-arrow \">&nbsp;OneHotEncoder<a class=\"sk-estimator-doc-link \" rel=\"noreferrer\" target=\"_blank\" href=\"https://scikit-learn.org/1.5/modules/generated/sklearn.preprocessing.OneHotEncoder.html\">?<span>Documentation for OneHotEncoder</span></a></label><div class=\"sk-toggleable__content \"><pre>OneHotEncoder(drop=&#x27;first&#x27;, handle_unknown=&#x27;ignore&#x27;)</pre></div> </div></div></div></div></div><div class=\"sk-parallel-item\"><div class=\"sk-item\"><div class=\"sk-label-container\"><div class=\"sk-label  sk-toggleable\"><input class=\"sk-toggleable__control sk-hidden--visually\" id=\"sk-estimator-id-18\" type=\"checkbox\" ><label for=\"sk-estimator-id-18\" class=\"sk-toggleable__label  sk-toggleable__label-arrow \">standarization</label><div class=\"sk-toggleable__content \"><pre>[3, 4, 5, 6, 7, 8, 9]</pre></div> </div></div><div class=\"sk-serial\"><div class=\"sk-item\"><div class=\"sk-estimator  sk-toggleable\"><input class=\"sk-toggleable__control sk-hidden--visually\" id=\"sk-estimator-id-19\" type=\"checkbox\" ><label for=\"sk-estimator-id-19\" class=\"sk-toggleable__label  sk-toggleable__label-arrow \">&nbsp;StandardScaler<a class=\"sk-estimator-doc-link \" rel=\"noreferrer\" target=\"_blank\" href=\"https://scikit-learn.org/1.5/modules/generated/sklearn.preprocessing.StandardScaler.html\">?<span>Documentation for StandardScaler</span></a></label><div class=\"sk-toggleable__content \"><pre>StandardScaler()</pre></div> </div></div></div></div></div><div class=\"sk-parallel-item\"><div class=\"sk-item\"><div class=\"sk-label-container\"><div class=\"sk-label  sk-toggleable\"><input class=\"sk-toggleable__control sk-hidden--visually\" id=\"sk-estimator-id-20\" type=\"checkbox\" ><label for=\"sk-estimator-id-20\" class=\"sk-toggleable__label  sk-toggleable__label-arrow \">remainder</label><div class=\"sk-toggleable__content \"><pre></pre></div> </div></div><div class=\"sk-serial\"><div class=\"sk-item\"><div class=\"sk-estimator  sk-toggleable\"><input class=\"sk-toggleable__control sk-hidden--visually\" id=\"sk-estimator-id-21\" type=\"checkbox\" ><label for=\"sk-estimator-id-21\" class=\"sk-toggleable__label  sk-toggleable__label-arrow \">passthrough</label><div class=\"sk-toggleable__content \"><pre>passthrough</pre></div> </div></div></div></div></div></div></div></div></div>"
      ]
     },
     "execution_count": 141,
     "metadata": {},
     "output_type": "execute_result"
    }
   ],
   "execution_count": 141
  },
  {
   "cell_type": "code",
   "id": "e3054c68",
   "metadata": {
    "ExecuteTime": {
     "end_time": "2024-11-09T04:47:26.806605Z",
     "start_time": "2024-11-09T04:47:26.738112Z"
    }
   },
   "source": [
    "x_train_dummy=preprocessor.fit_transform(x_train)\n",
    "x_test_dummy=preprocessor.transform(x_test)"
   ],
   "outputs": [],
   "execution_count": 142
  },
  {
   "cell_type": "code",
   "id": "2c921da5",
   "metadata": {
    "ExecuteTime": {
     "end_time": "2024-11-09T04:47:26.812619Z",
     "start_time": "2024-11-09T04:47:26.810361Z"
    }
   },
   "source": [
    "preprocessor.get_feature_names_out(col[:-1])"
   ],
   "outputs": [
    {
     "data": {
      "text/plain": [
       "array(['onehotencoders__State_Name_andhra pradesh',\n",
       "       'onehotencoders__State_Name_arunachal pradesh',\n",
       "       'onehotencoders__State_Name_assam',\n",
       "       'onehotencoders__State_Name_bihar',\n",
       "       'onehotencoders__State_Name_chandigarh',\n",
       "       'onehotencoders__State_Name_chhattisgarh',\n",
       "       'onehotencoders__State_Name_dadra and nagar haveli',\n",
       "       'onehotencoders__State_Name_goa',\n",
       "       'onehotencoders__State_Name_gujarat',\n",
       "       'onehotencoders__State_Name_haryana',\n",
       "       'onehotencoders__State_Name_himachal pradesh',\n",
       "       'onehotencoders__State_Name_jammu and kashmir',\n",
       "       'onehotencoders__State_Name_jharkhand',\n",
       "       'onehotencoders__State_Name_karnataka',\n",
       "       'onehotencoders__State_Name_kerala',\n",
       "       'onehotencoders__State_Name_madhya pradesh',\n",
       "       'onehotencoders__State_Name_maharashtra',\n",
       "       'onehotencoders__State_Name_manipur',\n",
       "       'onehotencoders__State_Name_meghalaya',\n",
       "       'onehotencoders__State_Name_mizoram',\n",
       "       'onehotencoders__State_Name_nagaland',\n",
       "       'onehotencoders__State_Name_odisha',\n",
       "       'onehotencoders__State_Name_puducherry',\n",
       "       'onehotencoders__State_Name_punjab',\n",
       "       'onehotencoders__State_Name_rajasthan',\n",
       "       'onehotencoders__State_Name_sikkim',\n",
       "       'onehotencoders__State_Name_tamil nadu',\n",
       "       'onehotencoders__State_Name_telangana',\n",
       "       'onehotencoders__State_Name_tripura',\n",
       "       'onehotencoders__State_Name_uttar pradesh',\n",
       "       'onehotencoders__State_Name_uttarakhand',\n",
       "       'onehotencoders__State_Name_west bengal',\n",
       "       'onehotencoders__Crop_Type_rabi',\n",
       "       'onehotencoders__Crop_Type_summer',\n",
       "       'onehotencoders__Crop_Type_whole year',\n",
       "       'onehotencoders__Crop_arecanut', 'onehotencoders__Crop_ashgourd',\n",
       "       'onehotencoders__Crop_banana', 'onehotencoders__Crop_barley',\n",
       "       'onehotencoders__Crop_beetroot',\n",
       "       'onehotencoders__Crop_bittergourd',\n",
       "       'onehotencoders__Crop_blackgram',\n",
       "       'onehotencoders__Crop_blackpepper',\n",
       "       'onehotencoders__Crop_bottlegourd', 'onehotencoders__Crop_brinjal',\n",
       "       'onehotencoders__Crop_cabbage', 'onehotencoders__Crop_cardamom',\n",
       "       'onehotencoders__Crop_carrot', 'onehotencoders__Crop_cashewnuts',\n",
       "       'onehotencoders__Crop_cauliflower', 'onehotencoders__Crop_coffee',\n",
       "       'onehotencoders__Crop_coriander', 'onehotencoders__Crop_cotton',\n",
       "       'onehotencoders__Crop_cucumber', 'onehotencoders__Crop_drumstick',\n",
       "       'onehotencoders__Crop_garlic', 'onehotencoders__Crop_ginger',\n",
       "       'onehotencoders__Crop_grapes', 'onehotencoders__Crop_horsegram',\n",
       "       'onehotencoders__Crop_jackfruit', 'onehotencoders__Crop_jowar',\n",
       "       'onehotencoders__Crop_jute', 'onehotencoders__Crop_ladyfinger',\n",
       "       'onehotencoders__Crop_maize', 'onehotencoders__Crop_mango',\n",
       "       'onehotencoders__Crop_moong', 'onehotencoders__Crop_onion',\n",
       "       'onehotencoders__Crop_orange', 'onehotencoders__Crop_papaya',\n",
       "       'onehotencoders__Crop_pineapple',\n",
       "       'onehotencoders__Crop_pomegranate', 'onehotencoders__Crop_potato',\n",
       "       'onehotencoders__Crop_pumpkin', 'onehotencoders__Crop_radish',\n",
       "       'onehotencoders__Crop_ragi', 'onehotencoders__Crop_rapeseed',\n",
       "       'onehotencoders__Crop_rice', 'onehotencoders__Crop_ridgegourd',\n",
       "       'onehotencoders__Crop_sesamum', 'onehotencoders__Crop_soyabean',\n",
       "       'onehotencoders__Crop_sunflower',\n",
       "       'onehotencoders__Crop_sweetpotato', 'onehotencoders__Crop_tapioca',\n",
       "       'onehotencoders__Crop_tomato', 'onehotencoders__Crop_turmeric',\n",
       "       'onehotencoders__Crop_watermelon', 'onehotencoders__Crop_wheat',\n",
       "       'standarization__rainfall', 'standarization__N',\n",
       "       'standarization__P', 'standarization__K', 'standarization__pH',\n",
       "       'standarization__temperature', 'standarization__Area_in_hectares'],\n",
       "      dtype=object)"
      ]
     },
     "execution_count": 143,
     "metadata": {},
     "output_type": "execute_result"
    }
   ],
   "execution_count": 143
  },
  {
   "cell_type": "code",
   "id": "c169ced0",
   "metadata": {
    "ExecuteTime": {
     "end_time": "2024-11-09T04:47:26.826318Z",
     "start_time": "2024-11-09T04:47:26.824694Z"
    }
   },
   "source": [
    "from sklearn.linear_model import LinearRegression, Lasso, Ridge\n",
    "from sklearn.neighbors import KNeighborsRegressor  \n",
    "from sklearn.tree import DecisionTreeRegressor\n",
    "from sklearn.metrics import mean_absolute_error, r2_score\n"
   ],
   "outputs": [],
   "execution_count": 144
  },
  {
   "cell_type": "code",
   "id": "c92b3fa8",
   "metadata": {
    "ExecuteTime": {
     "end_time": "2024-11-09T04:48:33.482727Z",
     "start_time": "2024-11-09T04:47:26.839082Z"
    }
   },
   "source": [
    "#modeling the data\n",
    "models = {\n",
    "    'lr': LinearRegression(),\n",
    "    'lss': Lasso(),\n",
    "    'rg': Ridge(),\n",
    "    'knr': KNeighborsRegressor(),\n",
    "    'dtr': DecisionTreeRegressor()\n",
    "}\n",
    "\n",
    "for name, mod in models.items():\n",
    "    mod.fit(x_train_dummy, y_train)\n",
    "    y_pred = mod.predict(x_test_dummy)\n",
    "    \n",
    "    print(f\"{name} MSE : {mean_absolute_error(y_test, y_pred)} Score: {r2_score(y_test, y_pred)}\")\n"
   ],
   "outputs": [
    {
     "name": "stdout",
     "output_type": "stream",
     "text": [
      "lr MSE : 31226.09085834017 Score: 0.6398537065570795\n"
     ]
    },
    {
     "name": "stderr",
     "output_type": "stream",
     "text": [
      "/opt/anaconda3/lib/python3.12/site-packages/sklearn/linear_model/_coordinate_descent.py:658: ConvergenceWarning: Objective did not converge. You might want to increase the number of iterations. Duality gap: 1719406901400.25, tolerance: 120027721431.07655\n",
      "  model = cd_fast.sparse_enet_coordinate_descent(\n"
     ]
    },
    {
     "name": "stdout",
     "output_type": "stream",
     "text": [
      "lss MSE : 31202.554290927525 Score: 0.6398467267284329\n",
      "rg MSE : 31212.886566566813 Score: 0.639830010692696\n",
      "knr MSE : 8645.970857285929 Score: 0.9323666141752709\n",
      "dtr MSE : 10403.082958604573 Score: 0.8869205197900646\n"
     ]
    }
   ],
   "execution_count": 145
  },
  {
   "cell_type": "code",
   "id": "80b4f589",
   "metadata": {
    "ExecuteTime": {
     "end_time": "2024-11-09T04:48:38.645319Z",
     "start_time": "2024-11-09T04:48:33.510002Z"
    }
   },
   "source": [
    "dtr=DecisionTreeRegressor()\n",
    "dtr.fit(x_train_dummy, y_train)\n",
    "dtr.predict(x_test_dummy)"
   ],
   "outputs": [
    {
     "data": {
      "text/plain": [
       "array([1623.,  643.,   18., ...,  485., 1696.,   14.])"
      ]
     },
     "execution_count": 146,
     "metadata": {},
     "output_type": "execute_result"
    }
   ],
   "execution_count": 146
  },
  {
   "cell_type": "code",
   "id": "1b9fe452",
   "metadata": {
    "ExecuteTime": {
     "end_time": "2024-11-09T04:48:38.659687Z",
     "start_time": "2024-11-09T04:48:38.657067Z"
    }
   },
   "source": [
    "#prediction system:-\n",
    "def prediction(State_Name, Crop_Type, Crop, rainfall, N, P, K, pH, temperature, Area_in_hectare):\n",
    "    features=np.array([[State_Name, Crop_Type, Crop, rainfall, N, P, K, pH, temperature, Area_in_hectare]])\n",
    "    \n",
    "    transformed_features=preprocessor.transform(features)\n",
    "    predicted_value=dtr.predict((transformed_features).reshape(1,-1))\n",
    "    return predicted_value[0]"
   ],
   "outputs": [],
   "execution_count": 147
  },
  {
   "cell_type": "code",
   "id": "9d5c3046",
   "metadata": {
    "ExecuteTime": {
     "end_time": "2024-11-09T04:48:38.676079Z",
     "start_time": "2024-11-09T04:48:38.670882Z"
    }
   },
   "source": [
    "State_Name='west bengal'\n",
    "Crop_Type='rabi'\n",
    "Crop='wheat'\n",
    "rainfall=152.54\n",
    "N=60\n",
    "P=30\n",
    "K=30\n",
    "pH=6.70\n",
    "temperature=22.28\n",
    "Area_in_hectare=2013.0\n",
    "\n",
    "result=prediction(State_Name, Crop_Type, Crop, rainfall, N, P, K, pH, temperature, Area_in_hectare)"
   ],
   "outputs": [
    {
     "name": "stderr",
     "output_type": "stream",
     "text": [
      "/opt/anaconda3/lib/python3.12/site-packages/sklearn/base.py:493: UserWarning: X does not have valid feature names, but OneHotEncoder was fitted with feature names\n",
      "  warnings.warn(\n",
      "/opt/anaconda3/lib/python3.12/site-packages/sklearn/base.py:493: UserWarning: X does not have valid feature names, but StandardScaler was fitted with feature names\n",
      "  warnings.warn(\n"
     ]
    }
   ],
   "execution_count": 148
  },
  {
   "cell_type": "code",
   "id": "2d0d9e0d",
   "metadata": {
    "ExecuteTime": {
     "end_time": "2024-11-09T04:48:38.688666Z",
     "start_time": "2024-11-09T04:48:38.686112Z"
    }
   },
   "source": [
    "result"
   ],
   "outputs": [
    {
     "data": {
      "text/plain": [
       "5152.0"
      ]
     },
     "execution_count": 149,
     "metadata": {},
     "output_type": "execute_result"
    }
   ],
   "execution_count": 149
  },
  {
   "cell_type": "code",
   "id": "ed1e3c5a",
   "metadata": {
    "ExecuteTime": {
     "end_time": "2024-11-09T04:48:38.700188Z",
     "start_time": "2024-11-09T04:48:38.698807Z"
    }
   },
   "source": [
    "# import pickle\n",
    "# pickle.dump(dtr,open('dtr.pkl','wb'))\n",
    "# pickle.dump(preprocessor,open('preprocessor.pkl','wb'))"
   ],
   "outputs": [],
   "execution_count": 150
  },
  {
   "cell_type": "code",
   "id": "6e7f38be",
   "metadata": {
    "ExecuteTime": {
     "end_time": "2024-11-09T04:48:38.714278Z",
     "start_time": "2024-11-09T04:48:38.712081Z"
    }
   },
   "source": [
    "import sklearn\n",
    "print(sklearn.__version__)"
   ],
   "outputs": [
    {
     "name": "stdout",
     "output_type": "stream",
     "text": [
      "1.5.2\n"
     ]
    }
   ],
   "execution_count": 151
  },
  {
   "cell_type": "code",
   "id": "970cd9b3",
   "metadata": {
    "ExecuteTime": {
     "end_time": "2024-11-09T04:48:43.970707Z",
     "start_time": "2024-11-09T04:48:38.724585Z"
    }
   },
   "source": [
    "from sklearn.tree import DecisionTreeRegressor\n",
    "import joblib\n",
    "\n",
    "# Re-train your model here (assuming you have access to the data)\n",
    "dtr = DecisionTreeRegressor()\n",
    "dtr.fit(x_train_dummy, y_train)  # X_train and y_train are your training data\n",
    "\n",
    "# Save the model again using joblib\n",
    "joblib.dump(dtr, '/Users/rushabhkarmokar/Desktop/Mini Project Sem 5/AnnaDrishti/dtr_joblib.pkl')\n"
   ],
   "outputs": [
    {
     "data": {
      "text/plain": [
       "['/Users/rushabhkarmokar/Desktop/Mini Project Sem 5/AnnaDrishti/dtr_joblib.pkl']"
      ]
     },
     "execution_count": 152,
     "metadata": {},
     "output_type": "execute_result"
    }
   ],
   "execution_count": 152
  },
  {
   "cell_type": "code",
   "id": "0d2007f1",
   "metadata": {
    "ExecuteTime": {
     "end_time": "2024-11-09T04:48:43.990282Z",
     "start_time": "2024-11-09T04:48:43.981801Z"
    }
   },
   "source": "dtr = joblib.load('/Users/rushabhkarmokar/Desktop/Mini Project Sem 5/AnnaDrishti/dtr_joblib.pkl')",
   "outputs": [],
   "execution_count": 153
  },
  {
   "cell_type": "code",
   "id": "fa38aefe",
   "metadata": {
    "ExecuteTime": {
     "end_time": "2024-11-09T04:48:44.005687Z",
     "start_time": "2024-11-09T04:48:44.001199Z"
    }
   },
   "source": "joblib.dump(preprocessor, '/Users/rushabhkarmokar/Desktop/Mini Project Sem 5/AnnaDrishti/preprocessor_joblib.pkl')",
   "outputs": [
    {
     "data": {
      "text/plain": [
       "['/Users/rushabhkarmokar/Desktop/Mini Project Sem 5/AnnaDrishti/preprocessor_joblib.pkl']"
      ]
     },
     "execution_count": 154,
     "metadata": {},
     "output_type": "execute_result"
    }
   ],
   "execution_count": 154
  },
  {
   "cell_type": "code",
   "id": "59ece1eb",
   "metadata": {
    "ExecuteTime": {
     "end_time": "2024-11-09T04:48:44.022716Z",
     "start_time": "2024-11-09T04:48:44.020268Z"
    }
   },
   "source": "preprocessor = joblib.load('/Users/rushabhkarmokar/Desktop/Mini Project Sem 5/AnnaDrishti/preprocessor_joblib.pkl')",
   "outputs": [],
   "execution_count": 155
  },
  {
   "cell_type": "code",
   "id": "04381678",
   "metadata": {
    "ExecuteTime": {
     "end_time": "2024-11-09T04:48:44.038129Z",
     "start_time": "2024-11-09T04:48:44.033796Z"
    }
   },
   "source": [
    "data['Crop_Type'].unique()"
   ],
   "outputs": [
    {
     "data": {
      "text/plain": [
       "array(['kharif', 'rabi', 'summer', 'whole year'], dtype=object)"
      ]
     },
     "execution_count": 156,
     "metadata": {},
     "output_type": "execute_result"
    }
   ],
   "execution_count": 156
  },
  {
   "cell_type": "code",
   "id": "bdb27b9a",
   "metadata": {
    "ExecuteTime": {
     "end_time": "2024-11-09T04:48:44.050165Z",
     "start_time": "2024-11-09T04:48:44.048570Z"
    }
   },
   "source": [],
   "outputs": [],
   "execution_count": null
  },
  {
   "cell_type": "code",
   "id": "dfa2ac20",
   "metadata": {
    "ExecuteTime": {
     "end_time": "2024-11-09T04:48:44.061902Z",
     "start_time": "2024-11-09T04:48:44.060518Z"
    }
   },
   "source": [],
   "outputs": [],
   "execution_count": null
  }
 ],
 "metadata": {
  "kernelspec": {
   "display_name": "Python 3 (ipykernel)",
   "language": "python",
   "name": "python3"
  },
  "language_info": {
   "codemirror_mode": {
    "name": "ipython",
    "version": 3
   },
   "file_extension": ".py",
   "mimetype": "text/x-python",
   "name": "python",
   "nbconvert_exporter": "python",
   "pygments_lexer": "ipython3",
   "version": "3.10.9"
  }
 },
 "nbformat": 4,
 "nbformat_minor": 5
}
